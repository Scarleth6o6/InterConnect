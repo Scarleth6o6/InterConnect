{
 "cells": [
  {
   "cell_type": "markdown",
   "metadata": {},
   "source": [
    "## Introducción\n",
    "La retención de clientes es un desafío clave para las empresas de telecomunicaciones, y Interconnect no es la excepción. Para reducir la tasa de cancelación de clientes, la compañía busca implementar un sistema de predicción que identifique con anticipación qué usuarios tienen mayor probabilidad de dar de baja su servicio.\n",
    "\n",
    "Si se logra detectar a tiempo a estos clientes, Interconnect podrá ofrecer códigos promocionales y planes especiales con el objetivo de mejorar la satisfacción y fomentar la lealtad. Para ello, el equipo de marketing ha recopilado un conjunto de datos que incluye información personal de los clientes, detalles de sus planes y contratos.\n",
    "\n",
    "Este proyecto tiene como objetivo desarrollar un modelo de Machine Learning capaz de predecir con precisión qué clientes podrían cancelar su contrato. Se analizarán diversos factores que influyen en la decisión de cancelar, y se evaluará el rendimiento de diferentes modelos para encontrar la mejor solución."
   ]
  },
  {
   "cell_type": "markdown",
   "metadata": {},
   "source": [
    "### Inicializacion"
   ]
  },
  {
   "cell_type": "code",
   "execution_count": 54,
   "metadata": {},
   "outputs": [],
   "source": [
    "import pandas as pd \n",
    "import numpy as np "
   ]
  },
  {
   "cell_type": "markdown",
   "metadata": {},
   "source": [
    "### Carga de Datos"
   ]
  },
  {
   "cell_type": "code",
   "execution_count": 55,
   "metadata": {},
   "outputs": [],
   "source": [
    "contract_df = pd.read_csv('data/final_provider/contract.csv')\n",
    "internet_df = pd.read_csv('data/final_provider/internet.csv')\n",
    "personal_df = pd.read_csv('data/final_provider/personal.csv')\n",
    "phone_df = pd.read_csv('data/final_provider/phone.csv')"
   ]
  },
  {
   "cell_type": "markdown",
   "metadata": {},
   "source": [
    "#### Descripcion de Datos"
   ]
  },
  {
   "cell_type": "code",
   "execution_count": 56,
   "metadata": {},
   "outputs": [
    {
     "data": {
      "text/html": [
       "<div>\n",
       "<style scoped>\n",
       "    .dataframe tbody tr th:only-of-type {\n",
       "        vertical-align: middle;\n",
       "    }\n",
       "\n",
       "    .dataframe tbody tr th {\n",
       "        vertical-align: top;\n",
       "    }\n",
       "\n",
       "    .dataframe thead th {\n",
       "        text-align: right;\n",
       "    }\n",
       "</style>\n",
       "<table border=\"1\" class=\"dataframe\">\n",
       "  <thead>\n",
       "    <tr style=\"text-align: right;\">\n",
       "      <th></th>\n",
       "      <th>customerID</th>\n",
       "      <th>BeginDate</th>\n",
       "      <th>EndDate</th>\n",
       "      <th>Type</th>\n",
       "      <th>PaperlessBilling</th>\n",
       "      <th>PaymentMethod</th>\n",
       "      <th>MonthlyCharges</th>\n",
       "      <th>TotalCharges</th>\n",
       "    </tr>\n",
       "  </thead>\n",
       "  <tbody>\n",
       "    <tr>\n",
       "      <th>0</th>\n",
       "      <td>7590-VHVEG</td>\n",
       "      <td>2020-01-01</td>\n",
       "      <td>No</td>\n",
       "      <td>Month-to-month</td>\n",
       "      <td>Yes</td>\n",
       "      <td>Electronic check</td>\n",
       "      <td>29.85</td>\n",
       "      <td>29.85</td>\n",
       "    </tr>\n",
       "    <tr>\n",
       "      <th>1</th>\n",
       "      <td>5575-GNVDE</td>\n",
       "      <td>2017-04-01</td>\n",
       "      <td>No</td>\n",
       "      <td>One year</td>\n",
       "      <td>No</td>\n",
       "      <td>Mailed check</td>\n",
       "      <td>56.95</td>\n",
       "      <td>1889.5</td>\n",
       "    </tr>\n",
       "    <tr>\n",
       "      <th>2</th>\n",
       "      <td>3668-QPYBK</td>\n",
       "      <td>2019-10-01</td>\n",
       "      <td>2019-12-01 00:00:00</td>\n",
       "      <td>Month-to-month</td>\n",
       "      <td>Yes</td>\n",
       "      <td>Mailed check</td>\n",
       "      <td>53.85</td>\n",
       "      <td>108.15</td>\n",
       "    </tr>\n",
       "    <tr>\n",
       "      <th>3</th>\n",
       "      <td>7795-CFOCW</td>\n",
       "      <td>2016-05-01</td>\n",
       "      <td>No</td>\n",
       "      <td>One year</td>\n",
       "      <td>No</td>\n",
       "      <td>Bank transfer (automatic)</td>\n",
       "      <td>42.30</td>\n",
       "      <td>1840.75</td>\n",
       "    </tr>\n",
       "    <tr>\n",
       "      <th>4</th>\n",
       "      <td>9237-HQITU</td>\n",
       "      <td>2019-09-01</td>\n",
       "      <td>2019-11-01 00:00:00</td>\n",
       "      <td>Month-to-month</td>\n",
       "      <td>Yes</td>\n",
       "      <td>Electronic check</td>\n",
       "      <td>70.70</td>\n",
       "      <td>151.65</td>\n",
       "    </tr>\n",
       "  </tbody>\n",
       "</table>\n",
       "</div>"
      ],
      "text/plain": [
       "   customerID   BeginDate              EndDate            Type  \\\n",
       "0  7590-VHVEG  2020-01-01                   No  Month-to-month   \n",
       "1  5575-GNVDE  2017-04-01                   No        One year   \n",
       "2  3668-QPYBK  2019-10-01  2019-12-01 00:00:00  Month-to-month   \n",
       "3  7795-CFOCW  2016-05-01                   No        One year   \n",
       "4  9237-HQITU  2019-09-01  2019-11-01 00:00:00  Month-to-month   \n",
       "\n",
       "  PaperlessBilling              PaymentMethod  MonthlyCharges TotalCharges  \n",
       "0              Yes           Electronic check           29.85        29.85  \n",
       "1               No               Mailed check           56.95       1889.5  \n",
       "2              Yes               Mailed check           53.85       108.15  \n",
       "3               No  Bank transfer (automatic)           42.30      1840.75  \n",
       "4              Yes           Electronic check           70.70       151.65  "
      ]
     },
     "execution_count": 56,
     "metadata": {},
     "output_type": "execute_result"
    }
   ],
   "source": [
    "contract_df.head()"
   ]
  },
  {
   "cell_type": "code",
   "execution_count": 57,
   "metadata": {},
   "outputs": [
    {
     "data": {
      "text/plain": [
       "Type\n",
       "Month-to-month    3875\n",
       "Two year          1695\n",
       "One year          1473\n",
       "Name: count, dtype: int64"
      ]
     },
     "execution_count": 57,
     "metadata": {},
     "output_type": "execute_result"
    }
   ],
   "source": [
    "contract_df['Type'].value_counts()"
   ]
  },
  {
   "cell_type": "markdown",
   "metadata": {},
   "source": [
    "La tabla ***contract_df*** contiene informacion sobre el tipo de contrato asociadoa a cada cliente:\n",
    "\n",
    "- **customerId**: Numero de identificacion unico para cada cliente.\n",
    "- **BeginDate**: La fecha desde la cual el cliente contrató algun servicio de la compañia.\n",
    "- **EndDate**: En caso de que el cliente haya cancelado los servicios la fecha de termino, de lo contrario indica \"No\".\n",
    "- **Type**: Indíca el tipo de contrato, si es mes a mes, por 1 año o por 2 años.\n",
    "- **PaperlessBilling**:  \"Yes\", Si el cliente recibe facturacion electronica, \"No\" si recibe la facturacion física (en papel)\n",
    "- **PaymentMethod**: Metodo de Pago\n",
    "- **MonthlyCharges**: El monto de cargo mensual.\n",
    "- **TotalCharges**: Los cargos totales asociados al cliente."
   ]
  },
  {
   "cell_type": "code",
   "execution_count": 58,
   "metadata": {},
   "outputs": [
    {
     "data": {
      "text/html": [
       "<div>\n",
       "<style scoped>\n",
       "    .dataframe tbody tr th:only-of-type {\n",
       "        vertical-align: middle;\n",
       "    }\n",
       "\n",
       "    .dataframe tbody tr th {\n",
       "        vertical-align: top;\n",
       "    }\n",
       "\n",
       "    .dataframe thead th {\n",
       "        text-align: right;\n",
       "    }\n",
       "</style>\n",
       "<table border=\"1\" class=\"dataframe\">\n",
       "  <thead>\n",
       "    <tr style=\"text-align: right;\">\n",
       "      <th></th>\n",
       "      <th>customerID</th>\n",
       "      <th>InternetService</th>\n",
       "      <th>OnlineSecurity</th>\n",
       "      <th>OnlineBackup</th>\n",
       "      <th>DeviceProtection</th>\n",
       "      <th>TechSupport</th>\n",
       "      <th>StreamingTV</th>\n",
       "      <th>StreamingMovies</th>\n",
       "    </tr>\n",
       "  </thead>\n",
       "  <tbody>\n",
       "    <tr>\n",
       "      <th>0</th>\n",
       "      <td>7590-VHVEG</td>\n",
       "      <td>DSL</td>\n",
       "      <td>No</td>\n",
       "      <td>Yes</td>\n",
       "      <td>No</td>\n",
       "      <td>No</td>\n",
       "      <td>No</td>\n",
       "      <td>No</td>\n",
       "    </tr>\n",
       "    <tr>\n",
       "      <th>1</th>\n",
       "      <td>5575-GNVDE</td>\n",
       "      <td>DSL</td>\n",
       "      <td>Yes</td>\n",
       "      <td>No</td>\n",
       "      <td>Yes</td>\n",
       "      <td>No</td>\n",
       "      <td>No</td>\n",
       "      <td>No</td>\n",
       "    </tr>\n",
       "    <tr>\n",
       "      <th>2</th>\n",
       "      <td>3668-QPYBK</td>\n",
       "      <td>DSL</td>\n",
       "      <td>Yes</td>\n",
       "      <td>Yes</td>\n",
       "      <td>No</td>\n",
       "      <td>No</td>\n",
       "      <td>No</td>\n",
       "      <td>No</td>\n",
       "    </tr>\n",
       "    <tr>\n",
       "      <th>3</th>\n",
       "      <td>7795-CFOCW</td>\n",
       "      <td>DSL</td>\n",
       "      <td>Yes</td>\n",
       "      <td>No</td>\n",
       "      <td>Yes</td>\n",
       "      <td>Yes</td>\n",
       "      <td>No</td>\n",
       "      <td>No</td>\n",
       "    </tr>\n",
       "    <tr>\n",
       "      <th>4</th>\n",
       "      <td>9237-HQITU</td>\n",
       "      <td>Fiber optic</td>\n",
       "      <td>No</td>\n",
       "      <td>No</td>\n",
       "      <td>No</td>\n",
       "      <td>No</td>\n",
       "      <td>No</td>\n",
       "      <td>No</td>\n",
       "    </tr>\n",
       "  </tbody>\n",
       "</table>\n",
       "</div>"
      ],
      "text/plain": [
       "   customerID InternetService OnlineSecurity OnlineBackup DeviceProtection  \\\n",
       "0  7590-VHVEG             DSL             No          Yes               No   \n",
       "1  5575-GNVDE             DSL            Yes           No              Yes   \n",
       "2  3668-QPYBK             DSL            Yes          Yes               No   \n",
       "3  7795-CFOCW             DSL            Yes           No              Yes   \n",
       "4  9237-HQITU     Fiber optic             No           No               No   \n",
       "\n",
       "  TechSupport StreamingTV StreamingMovies  \n",
       "0          No          No              No  \n",
       "1          No          No              No  \n",
       "2          No          No              No  \n",
       "3         Yes          No              No  \n",
       "4          No          No              No  "
      ]
     },
     "execution_count": 58,
     "metadata": {},
     "output_type": "execute_result"
    }
   ],
   "source": [
    "internet_df.head()"
   ]
  },
  {
   "cell_type": "markdown",
   "metadata": {},
   "source": [
    "La tabla ***internet_df*** contiene información sobre los servicios de internet contratados por los clientes, incluyendo el tipo de conexión y la disponibilidad de servicios adicionales. Cada servicio está indicado con \"Yes\" si está contratado o \"No\" si no lo está.\n",
    "\n",
    "- **customerID**: Número de identificación único para cada cliente.\n",
    "- **InternetService**: Tipo de conexión a internet contratado por el cliente. Puede ser DSL (línea de abonado digital) o Fiber optic (fibra óptica).\n",
    "- **OnlineSecurity**: Servicio de seguridad en línea que protege contra amenazas cibernéticas, como antivirus y firewall.\n",
    "- **OnlineBackup**: Servicio de almacenamiento en la nube y copia de seguridad de datos.\n",
    "- **DeviceProtection**: Protección para dispositivos contra malware y sitios web maliciosos.\n",
    "- **TechSupport**: Acceso a asistencia técnica especializada para resolver problemas de conexión y otros inconvenientes relacionados con el servicio de internet.\n",
    "- **StreamingTV**: Servicio de transmisión en línea de canales de televisión.\n",
    "- **StreamingMovies**: Servicio de transmisión en línea de películas y contenido bajo demanda."
   ]
  },
  {
   "cell_type": "code",
   "execution_count": 59,
   "metadata": {},
   "outputs": [
    {
     "data": {
      "text/html": [
       "<div>\n",
       "<style scoped>\n",
       "    .dataframe tbody tr th:only-of-type {\n",
       "        vertical-align: middle;\n",
       "    }\n",
       "\n",
       "    .dataframe tbody tr th {\n",
       "        vertical-align: top;\n",
       "    }\n",
       "\n",
       "    .dataframe thead th {\n",
       "        text-align: right;\n",
       "    }\n",
       "</style>\n",
       "<table border=\"1\" class=\"dataframe\">\n",
       "  <thead>\n",
       "    <tr style=\"text-align: right;\">\n",
       "      <th></th>\n",
       "      <th>customerID</th>\n",
       "      <th>gender</th>\n",
       "      <th>SeniorCitizen</th>\n",
       "      <th>Partner</th>\n",
       "      <th>Dependents</th>\n",
       "    </tr>\n",
       "  </thead>\n",
       "  <tbody>\n",
       "    <tr>\n",
       "      <th>0</th>\n",
       "      <td>7590-VHVEG</td>\n",
       "      <td>Female</td>\n",
       "      <td>0</td>\n",
       "      <td>Yes</td>\n",
       "      <td>No</td>\n",
       "    </tr>\n",
       "    <tr>\n",
       "      <th>1</th>\n",
       "      <td>5575-GNVDE</td>\n",
       "      <td>Male</td>\n",
       "      <td>0</td>\n",
       "      <td>No</td>\n",
       "      <td>No</td>\n",
       "    </tr>\n",
       "    <tr>\n",
       "      <th>2</th>\n",
       "      <td>3668-QPYBK</td>\n",
       "      <td>Male</td>\n",
       "      <td>0</td>\n",
       "      <td>No</td>\n",
       "      <td>No</td>\n",
       "    </tr>\n",
       "    <tr>\n",
       "      <th>3</th>\n",
       "      <td>7795-CFOCW</td>\n",
       "      <td>Male</td>\n",
       "      <td>0</td>\n",
       "      <td>No</td>\n",
       "      <td>No</td>\n",
       "    </tr>\n",
       "    <tr>\n",
       "      <th>4</th>\n",
       "      <td>9237-HQITU</td>\n",
       "      <td>Female</td>\n",
       "      <td>0</td>\n",
       "      <td>No</td>\n",
       "      <td>No</td>\n",
       "    </tr>\n",
       "  </tbody>\n",
       "</table>\n",
       "</div>"
      ],
      "text/plain": [
       "   customerID  gender  SeniorCitizen Partner Dependents\n",
       "0  7590-VHVEG  Female              0     Yes         No\n",
       "1  5575-GNVDE    Male              0      No         No\n",
       "2  3668-QPYBK    Male              0      No         No\n",
       "3  7795-CFOCW    Male              0      No         No\n",
       "4  9237-HQITU  Female              0      No         No"
      ]
     },
     "execution_count": 59,
     "metadata": {},
     "output_type": "execute_result"
    }
   ],
   "source": [
    "personal_df.head()"
   ]
  },
  {
   "cell_type": "markdown",
   "metadata": {},
   "source": [
    "La tabla ***personal*** contiene información sobre los datos personales de los clientes.\n",
    "\n",
    "- **customerID**: Número de identificación único para cada cliente.\n",
    "- **gender**: Género del cliente, puede ser Female (femenino) o Male (masculino).\n",
    "- **SeniorCitizen**: Indica si el cliente es un adulto mayor. Toma el valor 1 si lo es y 0 si no lo es.\n",
    "- **Partner**: Indica si el cliente tiene pareja (Yes para sí, No para no).\n",
    "- **Dependents**: Indica si el cliente tiene personas a su cargo (Yes para sí, No para no)."
   ]
  },
  {
   "cell_type": "code",
   "execution_count": 60,
   "metadata": {},
   "outputs": [
    {
     "data": {
      "text/html": [
       "<div>\n",
       "<style scoped>\n",
       "    .dataframe tbody tr th:only-of-type {\n",
       "        vertical-align: middle;\n",
       "    }\n",
       "\n",
       "    .dataframe tbody tr th {\n",
       "        vertical-align: top;\n",
       "    }\n",
       "\n",
       "    .dataframe thead th {\n",
       "        text-align: right;\n",
       "    }\n",
       "</style>\n",
       "<table border=\"1\" class=\"dataframe\">\n",
       "  <thead>\n",
       "    <tr style=\"text-align: right;\">\n",
       "      <th></th>\n",
       "      <th>customerID</th>\n",
       "      <th>MultipleLines</th>\n",
       "    </tr>\n",
       "  </thead>\n",
       "  <tbody>\n",
       "    <tr>\n",
       "      <th>0</th>\n",
       "      <td>5575-GNVDE</td>\n",
       "      <td>No</td>\n",
       "    </tr>\n",
       "    <tr>\n",
       "      <th>1</th>\n",
       "      <td>3668-QPYBK</td>\n",
       "      <td>No</td>\n",
       "    </tr>\n",
       "    <tr>\n",
       "      <th>2</th>\n",
       "      <td>9237-HQITU</td>\n",
       "      <td>No</td>\n",
       "    </tr>\n",
       "    <tr>\n",
       "      <th>3</th>\n",
       "      <td>9305-CDSKC</td>\n",
       "      <td>Yes</td>\n",
       "    </tr>\n",
       "    <tr>\n",
       "      <th>4</th>\n",
       "      <td>1452-KIOVK</td>\n",
       "      <td>Yes</td>\n",
       "    </tr>\n",
       "  </tbody>\n",
       "</table>\n",
       "</div>"
      ],
      "text/plain": [
       "   customerID MultipleLines\n",
       "0  5575-GNVDE            No\n",
       "1  3668-QPYBK            No\n",
       "2  9237-HQITU            No\n",
       "3  9305-CDSKC           Yes\n",
       "4  1452-KIOVK           Yes"
      ]
     },
     "execution_count": 60,
     "metadata": {},
     "output_type": "execute_result"
    }
   ],
   "source": [
    "phone_df.head()"
   ]
  },
  {
   "cell_type": "markdown",
   "metadata": {},
   "source": [
    "La tabla ***phone*** contiene información sobre el servicio de telefonía fija contratado por el cliente.\n",
    "\n",
    "- **customerID**: Número de identificación único para cada cliente.\n",
    "- **MultipleLines**: Indica si el cliente tiene un servicio de telefonía fija con capacidad para múltiples líneas (Yes si tiene varias líneas, No si solo tiene una).\n",
    "Dado que esta tabla describe un servicio específico, podría fusionarse con la tabla **internet** si se desea un análisis conjunto de los servicios contratados."
   ]
  },
  {
   "cell_type": "markdown",
   "metadata": {},
   "source": [
    "El dataframe ***contract*** es probablemente el más relevante para el análisis, ya que contiene información clave sobre la antigüedad de los clientes, el objetivo del análisis (es decir, si han cancelado o no el servicio), el tipo de contrato (mensual o anual), el monto de facturación y el método de pago. Estos factores son cruciales para entender los patrones de cancelación y podrían ayudar a identificar qué tipo de contrato o condiciones de pago están más relacionadas con la retención de clientes.\n",
    "\n",
    "Además, será importante explorar la relación entre el tipo de servicio contratado (***internet***) y la tasa de cancelación, ya que la calidad o características específicas de ciertos servicios podrían influir en la decisión de los clientes de cancelar. La información en ***phone*** también corresponde a un servicio contratado, por lo que fusionar ambos datasets sería una opción óptima para un análisis más completo.\n",
    "\n",
    "En cuanto al dataset ***personal***, aunque podría parecer inicialmente menos relevante, algunos factores podrían tener una correlación indirecta con la tasa de cancelación. Por ejemplo, la situación familiar del cliente (tener dependientes o pareja) podría influir en su decisión de mantener o cancelar el servicio. Sin embargo, estos son factores que no están bajo el control directo de la empresa, lo que limita las estrategias de intervención basadas en esta información."
   ]
  },
  {
   "cell_type": "markdown",
   "metadata": {},
   "source": [
    "#### Procesamiento de datos.\n",
    "Las columnas de los datasets cargados están con escritas en *CamelCase* en su mayoria o simplemente hay incogruencias, algunas están en minúsculas y otras en mayúsculas. Para prevenir errores, se renombraran las columnas con *snake_case*."
   ]
  },
  {
   "cell_type": "code",
   "execution_count": 61,
   "metadata": {},
   "outputs": [],
   "source": [
    "import re\n",
    "\n",
    "def rename_cols(data):\n",
    "    # Renombrar columnas de CamelCase a snake_case\n",
    "    new_columns = []\n",
    "    for column in data.columns:\n",
    "        snake_name = re.sub(r'([a-z])([A-Z])', r'\\1_\\2', column).lower()\n",
    "        new_columns.append(snake_name)\n",
    "    data.columns = new_columns\n",
    "    return data.info()"
   ]
  },
  {
   "cell_type": "code",
   "execution_count": 62,
   "metadata": {},
   "outputs": [
    {
     "name": "stdout",
     "output_type": "stream",
     "text": [
      "Contrato\n",
      "----------------------------------------\n",
      "<class 'pandas.core.frame.DataFrame'>\n",
      "RangeIndex: 7043 entries, 0 to 7042\n",
      "Data columns (total 8 columns):\n",
      " #   Column             Non-Null Count  Dtype  \n",
      "---  ------             --------------  -----  \n",
      " 0   customer_id        7043 non-null   object \n",
      " 1   begin_date         7043 non-null   object \n",
      " 2   end_date           7043 non-null   object \n",
      " 3   type               7043 non-null   object \n",
      " 4   paperless_billing  7043 non-null   object \n",
      " 5   payment_method     7043 non-null   object \n",
      " 6   monthly_charges    7043 non-null   float64\n",
      " 7   total_charges      7043 non-null   object \n",
      "dtypes: float64(1), object(7)\n",
      "memory usage: 440.3+ KB\n"
     ]
    }
   ],
   "source": [
    "print('Contrato')\n",
    "print('-'*40)\n",
    "rename_cols(contract_df)"
   ]
  },
  {
   "cell_type": "code",
   "execution_count": 63,
   "metadata": {},
   "outputs": [
    {
     "name": "stdout",
     "output_type": "stream",
     "text": [
      "Internet\n",
      "----------------------------------------\n",
      "<class 'pandas.core.frame.DataFrame'>\n",
      "RangeIndex: 5517 entries, 0 to 5516\n",
      "Data columns (total 8 columns):\n",
      " #   Column             Non-Null Count  Dtype \n",
      "---  ------             --------------  ----- \n",
      " 0   customer_id        5517 non-null   object\n",
      " 1   internet_service   5517 non-null   object\n",
      " 2   online_security    5517 non-null   object\n",
      " 3   online_backup      5517 non-null   object\n",
      " 4   device_protection  5517 non-null   object\n",
      " 5   tech_support       5517 non-null   object\n",
      " 6   streaming_tv       5517 non-null   object\n",
      " 7   streaming_movies   5517 non-null   object\n",
      "dtypes: object(8)\n",
      "memory usage: 344.9+ KB\n"
     ]
    }
   ],
   "source": [
    "print('Internet')\n",
    "print('-'*40)\n",
    "rename_cols(internet_df)"
   ]
  },
  {
   "cell_type": "code",
   "execution_count": 64,
   "metadata": {},
   "outputs": [
    {
     "data": {
      "text/plain": [
       "internet_service\n",
       "Fiber optic    3096\n",
       "DSL            2421\n",
       "Name: count, dtype: int64"
      ]
     },
     "execution_count": 64,
     "metadata": {},
     "output_type": "execute_result"
    }
   ],
   "source": [
    "internet_df['internet_service'].value_counts()"
   ]
  },
  {
   "cell_type": "code",
   "execution_count": 65,
   "metadata": {},
   "outputs": [
    {
     "name": "stdout",
     "output_type": "stream",
     "text": [
      "Personal\n",
      "----------------------------------------\n",
      "<class 'pandas.core.frame.DataFrame'>\n",
      "RangeIndex: 7043 entries, 0 to 7042\n",
      "Data columns (total 5 columns):\n",
      " #   Column          Non-Null Count  Dtype \n",
      "---  ------          --------------  ----- \n",
      " 0   customer_id     7043 non-null   object\n",
      " 1   gender          7043 non-null   object\n",
      " 2   senior_citizen  7043 non-null   int64 \n",
      " 3   partner         7043 non-null   object\n",
      " 4   dependents      7043 non-null   object\n",
      "dtypes: int64(1), object(4)\n",
      "memory usage: 275.2+ KB\n"
     ]
    }
   ],
   "source": [
    "print('Personal')\n",
    "print('-'*40)\n",
    "rename_cols(personal_df)"
   ]
  },
  {
   "cell_type": "code",
   "execution_count": 66,
   "metadata": {},
   "outputs": [
    {
     "name": "stdout",
     "output_type": "stream",
     "text": [
      "Phone\n",
      "----------------------------------------\n",
      "<class 'pandas.core.frame.DataFrame'>\n",
      "RangeIndex: 6361 entries, 0 to 6360\n",
      "Data columns (total 2 columns):\n",
      " #   Column          Non-Null Count  Dtype \n",
      "---  ------          --------------  ----- \n",
      " 0   customer_id     6361 non-null   object\n",
      " 1   multiple_lines  6361 non-null   object\n",
      "dtypes: object(2)\n",
      "memory usage: 99.5+ KB\n"
     ]
    }
   ],
   "source": [
    "print('Phone')\n",
    "print('-'*40)\n",
    "rename_cols(phone_df)"
   ]
  },
  {
   "cell_type": "code",
   "execution_count": 67,
   "metadata": {},
   "outputs": [
    {
     "name": "stdout",
     "output_type": "stream",
     "text": [
      "0\n"
     ]
    }
   ],
   "source": [
    "# Verificar datos duplicados\n",
    "duplication = contract_df.duplicated().sum()\n",
    "duplication += personal_df.duplicated().sum()\n",
    "duplication += phone_df.duplicated().sum()\n",
    "duplication += internet_df.duplicated().sum()\n",
    "print(duplication)"
   ]
  },
  {
   "cell_type": "markdown",
   "metadata": {},
   "source": [
    "La columna `total_charges`, es de tipo `object`, lo más apropiado será cambiarlo a `float`.\n",
    "\n",
    "Podria haber valores vacios en esta columna que no se detectarian como tal si se encuentran como ' ' (espacio vacío).\n",
    "\n",
    "No se encontraron duplicados explicitos o implicitos, de filas o columnas en ninguno de los datasets\n",
    "\n",
    "La mayoría de las características están en formato `object`, pero aquellas con valores \"Yes\" o \"No\" pueden convertirse a `int` (0 y 1) para simplificar la codificación y el entrenamiento de los modelos. Las columnas de tipo `int` o `float` no presentan problemas y pueden mantenerse en su formato original. La columna `total_charges`, es de tipo `object`, lo más apropiado será cambiarlo a `float`.\n",
    "\n",
    "En el caso de la columna `end_date` en la tabla ***contract***, se categorizará en dos valores: con o sin fecha. Esto permitirá crear una nueva columna `canceled` con valores `0` o `1` para indicar si el cliente canceló el servicio. Esta nueva columna servirá como objetivo para los modelos de **Machine learning**.\n",
    "\n",
    "Además, las columnas `begin_date` y end_date se convertirán de `object` a `date` para facilitar el análisis de la duración del contrato.\n",
    "\n",
    "Para analizar cuales son los principales factores de cancelación, es necesario unir la tabla ***contract*** con las demás utilizando `customer_id`, permitiendo así identificar especialmente los casos en los que el contrato ha sido cancelado.\n",
    "Este dataset cuenta con un total de 7043 registros, esta sera la cantidad de datos disponibles para el entrenamiento, validación y pruebas.\n",
    "\n",
    "Finalmente, las columnas categóricas con múltiples valores serán codificadas con `OneHotEncoding` para su uso en los modelos de entrenamiento."
   ]
  },
  {
   "cell_type": "code",
   "execution_count": 68,
   "metadata": {},
   "outputs": [],
   "source": [
    "# Reemplazar 'No' por valores nulos en 'end_date' para poder cambiar el tipo de dato\n",
    "contract_df['end_date'].replace('No', np.nan, inplace=True)"
   ]
  },
  {
   "cell_type": "code",
   "execution_count": 69,
   "metadata": {},
   "outputs": [],
   "source": [
    "personal_df['senior_citizen'].replace({0:'No', 1:'Yes'}, inplace=True)"
   ]
  },
  {
   "cell_type": "code",
   "execution_count": 70,
   "metadata": {},
   "outputs": [],
   "source": [
    "# Convertir 'begin_date' y 'end_date' a datatime\n",
    "contract_df['begin_date'] = pd.to_datetime(contract_df['begin_date'])\n",
    "contract_df['end_date']= pd.to_datetime(contract_df['end_date'])"
   ]
  },
  {
   "cell_type": "code",
   "execution_count": 71,
   "metadata": {},
   "outputs": [
    {
     "data": {
      "text/html": [
       "<div>\n",
       "<style scoped>\n",
       "    .dataframe tbody tr th:only-of-type {\n",
       "        vertical-align: middle;\n",
       "    }\n",
       "\n",
       "    .dataframe tbody tr th {\n",
       "        vertical-align: top;\n",
       "    }\n",
       "\n",
       "    .dataframe thead th {\n",
       "        text-align: right;\n",
       "    }\n",
       "</style>\n",
       "<table border=\"1\" class=\"dataframe\">\n",
       "  <thead>\n",
       "    <tr style=\"text-align: right;\">\n",
       "      <th></th>\n",
       "      <th>customer_id</th>\n",
       "      <th>begin_date</th>\n",
       "      <th>end_date</th>\n",
       "      <th>type</th>\n",
       "      <th>paperless_billing</th>\n",
       "      <th>payment_method</th>\n",
       "      <th>monthly_charges</th>\n",
       "      <th>total_charges</th>\n",
       "    </tr>\n",
       "  </thead>\n",
       "  <tbody>\n",
       "    <tr>\n",
       "      <th>488</th>\n",
       "      <td>4472-LVYGI</td>\n",
       "      <td>2020-02-01</td>\n",
       "      <td>NaT</td>\n",
       "      <td>Two year</td>\n",
       "      <td>Yes</td>\n",
       "      <td>Bank transfer (automatic)</td>\n",
       "      <td>52.55</td>\n",
       "      <td>NaN</td>\n",
       "    </tr>\n",
       "    <tr>\n",
       "      <th>753</th>\n",
       "      <td>3115-CZMZD</td>\n",
       "      <td>2020-02-01</td>\n",
       "      <td>NaT</td>\n",
       "      <td>Two year</td>\n",
       "      <td>No</td>\n",
       "      <td>Mailed check</td>\n",
       "      <td>20.25</td>\n",
       "      <td>NaN</td>\n",
       "    </tr>\n",
       "    <tr>\n",
       "      <th>936</th>\n",
       "      <td>5709-LVOEQ</td>\n",
       "      <td>2020-02-01</td>\n",
       "      <td>NaT</td>\n",
       "      <td>Two year</td>\n",
       "      <td>No</td>\n",
       "      <td>Mailed check</td>\n",
       "      <td>80.85</td>\n",
       "      <td>NaN</td>\n",
       "    </tr>\n",
       "    <tr>\n",
       "      <th>1082</th>\n",
       "      <td>4367-NUYAO</td>\n",
       "      <td>2020-02-01</td>\n",
       "      <td>NaT</td>\n",
       "      <td>Two year</td>\n",
       "      <td>No</td>\n",
       "      <td>Mailed check</td>\n",
       "      <td>25.75</td>\n",
       "      <td>NaN</td>\n",
       "    </tr>\n",
       "    <tr>\n",
       "      <th>1340</th>\n",
       "      <td>1371-DWPAZ</td>\n",
       "      <td>2020-02-01</td>\n",
       "      <td>NaT</td>\n",
       "      <td>Two year</td>\n",
       "      <td>No</td>\n",
       "      <td>Credit card (automatic)</td>\n",
       "      <td>56.05</td>\n",
       "      <td>NaN</td>\n",
       "    </tr>\n",
       "    <tr>\n",
       "      <th>3331</th>\n",
       "      <td>7644-OMVMY</td>\n",
       "      <td>2020-02-01</td>\n",
       "      <td>NaT</td>\n",
       "      <td>Two year</td>\n",
       "      <td>No</td>\n",
       "      <td>Mailed check</td>\n",
       "      <td>19.85</td>\n",
       "      <td>NaN</td>\n",
       "    </tr>\n",
       "    <tr>\n",
       "      <th>3826</th>\n",
       "      <td>3213-VVOLG</td>\n",
       "      <td>2020-02-01</td>\n",
       "      <td>NaT</td>\n",
       "      <td>Two year</td>\n",
       "      <td>No</td>\n",
       "      <td>Mailed check</td>\n",
       "      <td>25.35</td>\n",
       "      <td>NaN</td>\n",
       "    </tr>\n",
       "    <tr>\n",
       "      <th>4380</th>\n",
       "      <td>2520-SGTTA</td>\n",
       "      <td>2020-02-01</td>\n",
       "      <td>NaT</td>\n",
       "      <td>Two year</td>\n",
       "      <td>No</td>\n",
       "      <td>Mailed check</td>\n",
       "      <td>20.00</td>\n",
       "      <td>NaN</td>\n",
       "    </tr>\n",
       "    <tr>\n",
       "      <th>5218</th>\n",
       "      <td>2923-ARZLG</td>\n",
       "      <td>2020-02-01</td>\n",
       "      <td>NaT</td>\n",
       "      <td>One year</td>\n",
       "      <td>Yes</td>\n",
       "      <td>Mailed check</td>\n",
       "      <td>19.70</td>\n",
       "      <td>NaN</td>\n",
       "    </tr>\n",
       "    <tr>\n",
       "      <th>6670</th>\n",
       "      <td>4075-WKNIU</td>\n",
       "      <td>2020-02-01</td>\n",
       "      <td>NaT</td>\n",
       "      <td>Two year</td>\n",
       "      <td>No</td>\n",
       "      <td>Mailed check</td>\n",
       "      <td>73.35</td>\n",
       "      <td>NaN</td>\n",
       "    </tr>\n",
       "    <tr>\n",
       "      <th>6754</th>\n",
       "      <td>2775-SEFEE</td>\n",
       "      <td>2020-02-01</td>\n",
       "      <td>NaT</td>\n",
       "      <td>Two year</td>\n",
       "      <td>Yes</td>\n",
       "      <td>Bank transfer (automatic)</td>\n",
       "      <td>61.90</td>\n",
       "      <td>NaN</td>\n",
       "    </tr>\n",
       "  </tbody>\n",
       "</table>\n",
       "</div>"
      ],
      "text/plain": [
       "     customer_id begin_date end_date      type paperless_billing  \\\n",
       "488   4472-LVYGI 2020-02-01      NaT  Two year               Yes   \n",
       "753   3115-CZMZD 2020-02-01      NaT  Two year                No   \n",
       "936   5709-LVOEQ 2020-02-01      NaT  Two year                No   \n",
       "1082  4367-NUYAO 2020-02-01      NaT  Two year                No   \n",
       "1340  1371-DWPAZ 2020-02-01      NaT  Two year                No   \n",
       "3331  7644-OMVMY 2020-02-01      NaT  Two year                No   \n",
       "3826  3213-VVOLG 2020-02-01      NaT  Two year                No   \n",
       "4380  2520-SGTTA 2020-02-01      NaT  Two year                No   \n",
       "5218  2923-ARZLG 2020-02-01      NaT  One year               Yes   \n",
       "6670  4075-WKNIU 2020-02-01      NaT  Two year                No   \n",
       "6754  2775-SEFEE 2020-02-01      NaT  Two year               Yes   \n",
       "\n",
       "                 payment_method  monthly_charges  total_charges  \n",
       "488   Bank transfer (automatic)            52.55            NaN  \n",
       "753                Mailed check            20.25            NaN  \n",
       "936                Mailed check            80.85            NaN  \n",
       "1082               Mailed check            25.75            NaN  \n",
       "1340    Credit card (automatic)            56.05            NaN  \n",
       "3331               Mailed check            19.85            NaN  \n",
       "3826               Mailed check            25.35            NaN  \n",
       "4380               Mailed check            20.00            NaN  \n",
       "5218               Mailed check            19.70            NaN  \n",
       "6670               Mailed check            73.35            NaN  \n",
       "6754  Bank transfer (automatic)            61.90            NaN  "
      ]
     },
     "execution_count": 71,
     "metadata": {},
     "output_type": "execute_result"
    }
   ],
   "source": [
    "# Eliminar caracteres no numéricos como  ',' y espacios\n",
    "contract_df['total_charges'] = contract_df['total_charges'].replace({',': '', ' ': ''}, regex=True)\n",
    "\n",
    "# Convertir la columna a float\n",
    "contract_df['total_charges'] = pd.to_numeric(contract_df['total_charges'], errors='coerce') \n",
    "\n",
    "# Ver los valores no convertibles en 'total_charges'\n",
    "contract_df[contract_df['total_charges'].isna()]"
   ]
  },
  {
   "cell_type": "code",
   "execution_count": 72,
   "metadata": {},
   "outputs": [
    {
     "data": {
      "text/html": [
       "<div>\n",
       "<style scoped>\n",
       "    .dataframe tbody tr th:only-of-type {\n",
       "        vertical-align: middle;\n",
       "    }\n",
       "\n",
       "    .dataframe tbody tr th {\n",
       "        vertical-align: top;\n",
       "    }\n",
       "\n",
       "    .dataframe thead th {\n",
       "        text-align: right;\n",
       "    }\n",
       "</style>\n",
       "<table border=\"1\" class=\"dataframe\">\n",
       "  <thead>\n",
       "    <tr style=\"text-align: right;\">\n",
       "      <th></th>\n",
       "      <th>begin_date</th>\n",
       "      <th>end_date</th>\n",
       "      <th>monthly_charges</th>\n",
       "      <th>total_charges</th>\n",
       "    </tr>\n",
       "  </thead>\n",
       "  <tbody>\n",
       "    <tr>\n",
       "      <th>count</th>\n",
       "      <td>7043</td>\n",
       "      <td>1869</td>\n",
       "      <td>7043.000000</td>\n",
       "      <td>7032.000000</td>\n",
       "    </tr>\n",
       "    <tr>\n",
       "      <th>mean</th>\n",
       "      <td>2017-04-30 13:01:50.918642688</td>\n",
       "      <td>2019-11-15 21:31:18.009630976</td>\n",
       "      <td>64.761692</td>\n",
       "      <td>2283.300441</td>\n",
       "    </tr>\n",
       "    <tr>\n",
       "      <th>min</th>\n",
       "      <td>2013-10-01 00:00:00</td>\n",
       "      <td>2019-10-01 00:00:00</td>\n",
       "      <td>18.250000</td>\n",
       "      <td>18.800000</td>\n",
       "    </tr>\n",
       "    <tr>\n",
       "      <th>25%</th>\n",
       "      <td>2015-06-01 00:00:00</td>\n",
       "      <td>2019-11-01 00:00:00</td>\n",
       "      <td>35.500000</td>\n",
       "      <td>401.450000</td>\n",
       "    </tr>\n",
       "    <tr>\n",
       "      <th>50%</th>\n",
       "      <td>2017-09-01 00:00:00</td>\n",
       "      <td>2019-11-01 00:00:00</td>\n",
       "      <td>70.350000</td>\n",
       "      <td>1397.475000</td>\n",
       "    </tr>\n",
       "    <tr>\n",
       "      <th>75%</th>\n",
       "      <td>2019-04-01 00:00:00</td>\n",
       "      <td>2019-12-01 00:00:00</td>\n",
       "      <td>89.850000</td>\n",
       "      <td>3794.737500</td>\n",
       "    </tr>\n",
       "    <tr>\n",
       "      <th>max</th>\n",
       "      <td>2020-02-01 00:00:00</td>\n",
       "      <td>2020-01-01 00:00:00</td>\n",
       "      <td>118.750000</td>\n",
       "      <td>8684.800000</td>\n",
       "    </tr>\n",
       "    <tr>\n",
       "      <th>std</th>\n",
       "      <td>NaN</td>\n",
       "      <td>NaN</td>\n",
       "      <td>30.090047</td>\n",
       "      <td>2266.771362</td>\n",
       "    </tr>\n",
       "  </tbody>\n",
       "</table>\n",
       "</div>"
      ],
      "text/plain": [
       "                          begin_date                       end_date  \\\n",
       "count                           7043                           1869   \n",
       "mean   2017-04-30 13:01:50.918642688  2019-11-15 21:31:18.009630976   \n",
       "min              2013-10-01 00:00:00            2019-10-01 00:00:00   \n",
       "25%              2015-06-01 00:00:00            2019-11-01 00:00:00   \n",
       "50%              2017-09-01 00:00:00            2019-11-01 00:00:00   \n",
       "75%              2019-04-01 00:00:00            2019-12-01 00:00:00   \n",
       "max              2020-02-01 00:00:00            2020-01-01 00:00:00   \n",
       "std                              NaN                            NaN   \n",
       "\n",
       "       monthly_charges  total_charges  \n",
       "count      7043.000000    7032.000000  \n",
       "mean         64.761692    2283.300441  \n",
       "min          18.250000      18.800000  \n",
       "25%          35.500000     401.450000  \n",
       "50%          70.350000    1397.475000  \n",
       "75%          89.850000    3794.737500  \n",
       "max         118.750000    8684.800000  \n",
       "std          30.090047    2266.771362  "
      ]
     },
     "execution_count": 72,
     "metadata": {},
     "output_type": "execute_result"
    }
   ],
   "source": [
    "contract_df.describe()"
   ]
  },
  {
   "cell_type": "markdown",
   "metadata": {},
   "source": [
    "Los contratos con valores ausentes en la columna `total_charges` corresponden al último mes en que se recolectaron los datos. Dado que `total_charges` refleja el total acumulado pagado por el cliente hasta la fecha, y teniendo en cuenta que estos contratos no tienen un valor en esa columna, se imputará el valor de `monthly_charges` a estos registros. Esto se hace bajo la suposición de que, en el último mes, el cliente pagó exactamente lo mismo que su cuota mensual."
   ]
  },
  {
   "cell_type": "code",
   "execution_count": 73,
   "metadata": {},
   "outputs": [],
   "source": [
    "# Reemplaza valores nulos en cargos totales  con el cargo mensual\n",
    "contract_df['total_charges'].fillna(contract_df['monthly_charges'], inplace=True)"
   ]
  },
  {
   "cell_type": "code",
   "execution_count": 74,
   "metadata": {},
   "outputs": [
    {
     "data": {
      "text/html": [
       "<div>\n",
       "<style scoped>\n",
       "    .dataframe tbody tr th:only-of-type {\n",
       "        vertical-align: middle;\n",
       "    }\n",
       "\n",
       "    .dataframe tbody tr th {\n",
       "        vertical-align: top;\n",
       "    }\n",
       "\n",
       "    .dataframe thead th {\n",
       "        text-align: right;\n",
       "    }\n",
       "</style>\n",
       "<table border=\"1\" class=\"dataframe\">\n",
       "  <thead>\n",
       "    <tr style=\"text-align: right;\">\n",
       "      <th></th>\n",
       "      <th>customer_id</th>\n",
       "      <th>begin_date</th>\n",
       "      <th>end_date</th>\n",
       "      <th>type</th>\n",
       "      <th>paperless_billing</th>\n",
       "      <th>payment_method</th>\n",
       "      <th>monthly_charges</th>\n",
       "      <th>total_charges</th>\n",
       "      <th>canceled</th>\n",
       "    </tr>\n",
       "  </thead>\n",
       "  <tbody>\n",
       "    <tr>\n",
       "      <th>0</th>\n",
       "      <td>7590-VHVEG</td>\n",
       "      <td>2020-01-01</td>\n",
       "      <td>NaT</td>\n",
       "      <td>Month-to-month</td>\n",
       "      <td>Yes</td>\n",
       "      <td>Electronic check</td>\n",
       "      <td>29.85</td>\n",
       "      <td>29.85</td>\n",
       "      <td>0</td>\n",
       "    </tr>\n",
       "    <tr>\n",
       "      <th>1</th>\n",
       "      <td>5575-GNVDE</td>\n",
       "      <td>2017-04-01</td>\n",
       "      <td>NaT</td>\n",
       "      <td>One year</td>\n",
       "      <td>No</td>\n",
       "      <td>Mailed check</td>\n",
       "      <td>56.95</td>\n",
       "      <td>1889.50</td>\n",
       "      <td>0</td>\n",
       "    </tr>\n",
       "    <tr>\n",
       "      <th>2</th>\n",
       "      <td>3668-QPYBK</td>\n",
       "      <td>2019-10-01</td>\n",
       "      <td>2019-12-01</td>\n",
       "      <td>Month-to-month</td>\n",
       "      <td>Yes</td>\n",
       "      <td>Mailed check</td>\n",
       "      <td>53.85</td>\n",
       "      <td>108.15</td>\n",
       "      <td>1</td>\n",
       "    </tr>\n",
       "  </tbody>\n",
       "</table>\n",
       "</div>"
      ],
      "text/plain": [
       "  customer_id begin_date   end_date            type paperless_billing  \\\n",
       "0  7590-VHVEG 2020-01-01        NaT  Month-to-month               Yes   \n",
       "1  5575-GNVDE 2017-04-01        NaT        One year                No   \n",
       "2  3668-QPYBK 2019-10-01 2019-12-01  Month-to-month               Yes   \n",
       "\n",
       "     payment_method  monthly_charges  total_charges  canceled  \n",
       "0  Electronic check            29.85          29.85         0  \n",
       "1      Mailed check            56.95        1889.50         0  \n",
       "2      Mailed check            53.85         108.15         1  "
      ]
     },
     "execution_count": 74,
     "metadata": {},
     "output_type": "execute_result"
    }
   ],
   "source": [
    "# Crear la columna 'canceled' \n",
    "contract_df[\"canceled\"] = contract_df[\"end_date\"].notna().astype(int)\n",
    "contract_df.head(3)"
   ]
  },
  {
   "cell_type": "markdown",
   "metadata": {},
   "source": [
    "### EDA."
   ]
  },
  {
   "cell_type": "markdown",
   "metadata": {},
   "source": [
    "#### Duracion del contrato."
   ]
  },
  {
   "cell_type": "code",
   "execution_count": 75,
   "metadata": {},
   "outputs": [
    {
     "name": "stderr",
     "output_type": "stream",
     "text": [
      "c:\\Users\\Molix.x\\anaconda3\\Lib\\site-packages\\seaborn\\_oldcore.py:1119: FutureWarning: use_inf_as_na option is deprecated and will be removed in a future version. Convert inf values to NaN before operating instead.\n",
      "  with pd.option_context('mode.use_inf_as_na', True):\n"
     ]
    },
    {
     "data": {
      "image/png": "[encoded data removed]",
      "text/plain": [
       "<Figure size 1000x600 with 1 Axes>"
      ]
     },
     "metadata": {},
     "output_type": "display_data"
    }
   ],
   "source": [
    "import matplotlib.pyplot as plt\n",
    "import seaborn as sns\n",
    "\n",
    "# Obtener la última fecha registrada en el dataset\n",
    "ultima_fecha = contract_df['begin_date'].max()\n",
    "\n",
    "# Modificar duration_months para que los valores sin end_date usen la última fecha\n",
    "# Calcula la duracion del contrato en días\n",
    "contract_df['duration_months'] = (contract_df['end_date'].fillna(ultima_fecha)- contract_df['begin_date']).dt.days\n",
    "# Convertir duración a meses (redondeando hacia arriba)\n",
    "contract_df['duration_months'] = contract_df['duration_months'].fillna(0)\n",
    "contract_df['duration_months'] = np.ceil(contract_df['duration_months'] / 30)\n",
    "\n",
    "# Filtrar contratos terminados (canceled = 1)\n",
    "filtered_df = contract_df[contract_df['canceled']==1]\n",
    "\n",
    "plt.figure(figsize=(10, 6))\n",
    "sns.histplot(filtered_df['duration_months'], bins=30, kde=True)\n",
    "plt.title('Distribución de la Duración de los Contratos Cancelados')\n",
    "plt.xlabel('Duración (meses)')\n",
    "plt.ylabel('Frecuencia')\n",
    "\n",
    "# Ajustar ticks del eje X para facilitar la lectura\n",
    "plt.xticks(range(int(filtered_df['duration_months'].min()), int(filtered_df['duration_months'].max() + 1), 3))\n",
    "\n",
    "plt.show()"
   ]
  },
  {
   "cell_type": "markdown",
   "metadata": {},
   "source": [
    "**Obserbaciones.**\n",
    "- La mayoría de las cancelaciones ocurren dentro de los primeros 3 meses, lo que sugiere que hay clientes que prueban el servicio por un período corto y deciden no continuar.\n",
    "- También hay un segundo grupo de cancelaciones frecuentes entre los 4 y 7 meses, aunque con menor frecuencia que el primer pico. Esto podría indicar que algunos clientes permanecen un tiempo más antes de tomar la decisión de cancelar.\n",
    "- A partir del segundo año (24 meses en adelante), las cancelaciones son menos frecuentes, lo que sugiere que los clientes que superan este umbral tienden a mantenerse en el servicio a largo plazo.\n",
    "\n",
    "#### Tasa de cancelacion mensual."
   ]
  },
  {
   "cell_type": "code",
   "execution_count": 76,
   "metadata": {},
   "outputs": [],
   "source": [
    "# Extraer el mes de cancelacion del contrato\n",
    "filtered_df = filtered_df.copy() \n",
    "filtered_df['month_of_year'] = filtered_df['end_date'].dt.month_name()\n",
    "cancel_by_month = filtered_df['month_of_year'].value_counts()\n",
    "\n",
    "# Contar clientes activos por mes\n",
    "clientes_totales_por_mes = contract_df['begin_date'].dt.month_name().value_counts()\n",
    "\n",
    "# Calcular tasa de cancelación\n",
    "tasa_cancelacion_mensual = np.round((cancel_by_month / clientes_totales_por_mes) * 100)\n",
    "tasa_cancelacion_mensual= tasa_cancelacion_mensual[tasa_cancelacion_mensual.notna()].astype('int')"
   ]
  },
  {
   "cell_type": "code",
   "execution_count": 77,
   "metadata": {},
   "outputs": [
    {
     "data": {
      "image/png": "[encoded data removed]",
      "text/plain": [
       "<Figure size 600x400 with 1 Axes>"
      ]
     },
     "metadata": {},
     "output_type": "display_data"
    }
   ],
   "source": [
    "# Crear gráfico de barras\n",
    "plt.figure(figsize=(6, 4))\n",
    "ax = tasa_cancelacion_mensual.plot(kind='bar', color='red', alpha=0.7)\n",
    "\n",
    "# Agregar etiquetas de valores en cada barra\n",
    "for i, v in enumerate(tasa_cancelacion_mensual):\n",
    "    ax.text(i, v , str(v), ha='center', fontsize=12)\n",
    "ax.set_ylim(0, tasa_cancelacion_mensual.max() + 40)\n",
    "\n",
    "plt.title(\"Tasa de Cancelación Mensual\")\n",
    "plt.ylabel(\"Porcentaje de Cancelaciones\")\n",
    "plt.xlabel(\"Mes\")\n",
    "plt.xticks(rotation=0)\n",
    "plt.show()"
   ]
  },
  {
   "cell_type": "markdown",
   "metadata": {},
   "source": [
    "Las cancelaciones de los servicios se concentran exclusivamente entre los meses de octubre y enero, con noviembre registrando el mayor número de bajas. No se observan cancelaciones en otros períodos del año, lo que indica una fuerte estacionalidad en la pérdida de clientes.\n",
    "\n",
    "Durante estos meses, la tasa de cancelación supera el 70% del total de contrataciones. En noviembre, por cada 100 clientes que contratan los servicios, aproximadamente 78 los cancelan. En octubre, diciembre y enero, las tasas de cancelación también son elevadas, con un 76%, 77% y 74%, respectivamente.\n",
    "\n",
    "Este patrón podría estar relacionado con factores como la finalización de promociones, ajustes en presupuestos personales por las festividades de fin de año o renovaciones de contratos. Dado que las cancelaciones se concentran en este período, sería recomendable implementar estrategias específicas para mejorar la retención de clientes, como promociones especiales, descuentos por permanencia o mejoras en la experiencia del servicio antes y durante estos meses críticos."
   ]
  },
  {
   "cell_type": "code",
   "execution_count": 78,
   "metadata": {},
   "outputs": [
    {
     "data": {
      "image/png": "[encoded data removed]",
      "text/plain": [
       "<Figure size 600x400 with 1 Axes>"
      ]
     },
     "metadata": {},
     "output_type": "display_data"
    }
   ],
   "source": [
    "canceled_contract_df = contract_df[contract_df['canceled'] == 1]\n",
    "\n",
    "# Agrupar por tipo de contrato y contar cancelaciones\n",
    "cancel_count_by_type = canceled_contract_df.groupby('type').count()['canceled']\n",
    "labels = ['Mes a mes', 'Un año', 'Dos años']\n",
    "# Crear gráfico de barras\n",
    "plt.figure(figsize=(6, 4))\n",
    "ax = cancel_count_by_type.plot(kind='bar', color='skyblue')\n",
    "\n",
    "# Agregar etiquetas de valores en cada barra\n",
    "for i, v in enumerate(cancel_count_by_type):\n",
    "    ax.text(i, v + 50, str(v), ha='center', fontsize=12)\n",
    "ax.set_ylim(0, cancel_count_by_type.max() + 200)  \n",
    "\n",
    "plt.title('Cancelaciones por Tipo de Contrato')\n",
    "plt.xlabel('Tipo de Contrato')\n",
    "plt.ylabel('Cantidad de Cancelaciones')\n",
    "plt.xticks(ticks=range(len(labels)), labels=labels, rotation=0)\n",
    "plt.show()\n"
   ]
  },
  {
   "cell_type": "code",
   "execution_count": 79,
   "metadata": {},
   "outputs": [
    {
     "data": {
      "image/png": "[encoded data removed]",
      "text/plain": [
       "<Figure size 600x400 with 1 Axes>"
      ]
     },
     "metadata": {},
     "output_type": "display_data"
    }
   ],
   "source": [
    "perc_cancel_monthly = (cancel_count_by_type.loc['Month-to-month']/cancel_count_by_type.sum())*100\n",
    "perc_cancel_1_year = (cancel_count_by_type.loc['One year']/cancel_count_by_type.sum())*100\n",
    "perc_cancel_2_year = (cancel_count_by_type.loc['Two year']/cancel_count_by_type.sum())*100\n",
    "cancel_perc = [perc_cancel_monthly, perc_cancel_1_year, perc_cancel_2_year]\n",
    "\n",
    "colors = ['darkred', 'green', 'blue']\n",
    "\n",
    "plt.figure(figsize=(6, 4))\n",
    "plt.pie(cancel_perc, labels=labels, autopct='%1.1f%%', colors=colors, startangle=140)\n",
    "plt.title('Proporción de Cancelaciones por Tipo de Contrato')\n",
    "plt.show()\n"
   ]
  },
  {
   "cell_type": "markdown",
   "metadata": {},
   "source": [
    "**Obserevaciones**\n",
    "Para los contratos de dos años y un año, las tasas de cancelación son del 2.6% y 8.9%, respectivamente.\n",
    "\n",
    "En contraste, la tasa de cancelación de los contratos \"Mes a mes\" es 88.6%, significativamente más alta. Esto sugiere que los clientes con este tipo de contrato tienen menos incentivos para mantener el servicio a largo plazo.\n",
    "\n",
    "**Posibles acciones:**\n",
    "\n",
    "- Ofrecer descuentos o beneficios adicionales para fomentar la contratación de planes a largo plazo.\n",
    "- Mejorar la experiencia del servicio y la relación con los clientes para reducir la cancelación en contratos mensuales."
   ]
  },
  {
   "cell_type": "markdown",
   "metadata": {},
   "source": [
    "#### Cancelaciones por Servicio de Internet"
   ]
  },
  {
   "cell_type": "code",
   "execution_count": 80,
   "metadata": {},
   "outputs": [],
   "source": [
    "# Fusionar contract con la tabla internet\n",
    "contract_services= contract_df.merge(internet_df, on='customer_id', how='left')"
   ]
  },
  {
   "cell_type": "code",
   "execution_count": 81,
   "metadata": {},
   "outputs": [
    {
     "data": {
      "image/png": "[encoded data removed]",
      "text/plain": [
       "<Figure size 600x400 with 1 Axes>"
      ]
     },
     "metadata": {},
     "output_type": "display_data"
    }
   ],
   "source": [
    "# Seleccionar columnas de interés\n",
    "service_cols = ['tech_support', 'streaming_tv', 'streaming_movies', \n",
    "                'online_security', 'online_backup', 'device_protection']\n",
    "\n",
    "df_long = contract_services.melt(id_vars=['customer_id', 'canceled'], \n",
    "                         value_vars=service_cols, \n",
    "                         var_name='service_type', \n",
    "                         value_name='status')\n",
    "\n",
    "# Filtrar solo los servicios contratados\n",
    "df_long = df_long[df_long['status'] != 'No']\n",
    "\n",
    "# Contar cancelaciones por tipo de servicio\n",
    "cancel_counts = df_long.groupby(['service_type', 'canceled']).size().unstack()\n",
    "\n",
    "# Reordenar las filas de cancel_counts para que coincidan con service_cols\n",
    "cancel_counts = cancel_counts.reindex(service_cols)\n",
    "\n",
    "# Etiquetas personalizadas en el mismo orden\n",
    "services = ['Soporte Técnico', 'Streaming TV', 'Streaming Películas', \n",
    "            'Seguridad En Línea', 'Backup Online', 'Protección de Dispositivo']\n",
    "\n",
    "# Graficar barras \n",
    "cancel_counts.plot(kind='barh', figsize=(6,4), colormap='coolwarm')\n",
    "plt.title('Distribución de Cancelaciones por Servicio')\n",
    "plt.ylabel('Servicio Incluido')\n",
    "plt.xlabel('Cantidad de Clientes')\n",
    "plt.yticks(ticks=range(len(services)), labels=services, rotation=0)\n",
    "plt.xticks(rotation=0)\n",
    "plt.legend(['No Cancelado', 'Cancelado'])\n",
    "plt.show()\n"
   ]
  },
  {
   "cell_type": "markdown",
   "metadata": {},
   "source": [
    "Los servicios de *streaming* presentan una tasa de cancelación más alta en comparación con otros servicios de **internet**, con más de 750 clientes que los han dado de baja.\n",
    "\n",
    "Los servicios de *Protección de Dispositivo* y *Respaldo en la Nube* tienen niveles de contratación similares a los de *streaming*, pero su tasa de cancelación es menor, con aproximadamente 500 clientes que han cancelado estos servicios.\n",
    "\n",
    "Por otro lado, los servicios de *Soporte Técnico* y *Seguridad en Línea* son los menos contratados, siendo este último el de menor demanda. Sin embargo, también registran la menor cantidad de cancelaciones.\n",
    "\n",
    "En general, no se observan anomalías evidentes en los datos. A pesar de las diferencias en las cifras de contratación y cancelación entre los servicios, estas son proporcionales: los servicios más contratados también presentan más cancelaciones. Sin embargo, en el caso de los servicios de *streaming*, la tasa de cancelación alcanza casi un tercio del total de clientes que contrataron el servicio.\n",
    "\n",
    "Dado que los servicios de *streaming* tienen una tasa de cancelación relativamente alta, podría ser útil analizar las razones detrás de esta tendencia e implementar estrategias para mejorar la retención de clientes en este segmento."
   ]
  },
  {
   "cell_type": "markdown",
   "metadata": {},
   "source": [
    "#### Cancelaciones por tipo de Conexión"
   ]
  },
  {
   "cell_type": "code",
   "execution_count": 82,
   "metadata": {},
   "outputs": [],
   "source": [
    "# Fusiona los datasets contract_services y phone\n",
    "contract_services = contract_services.merge(phone_df, on='customer_id', how='outer')\n",
    "# Reemplazar NaN en todas las columnas excepto 'multiple_lines' e 'internet_service'\n",
    "columns_to_replace = [col for col in contract_services.columns if col != 'multiple_lines' and col !='internet_service']\n",
    "contract_services[columns_to_replace] = contract_services[columns_to_replace].fillna('No')"
   ]
  },
  {
   "cell_type": "code",
   "execution_count": 83,
   "metadata": {},
   "outputs": [],
   "source": [
    "contract_services[\"service_category\"] = contract_services.apply(\n",
    "    lambda row: \"Ambos\" if pd.notna(row[\"internet_service\"]) and pd.notna(row[\"multiple_lines\"]) \n",
    "    else \"Solo Internet\" if pd.notna(row[\"internet_service\"]) \n",
    "    else \"Solo Telefonía\" if pd.notna(row[\"multiple_lines\"]) \n",
    "    else \"Ninguno\", axis=1)"
   ]
  },
  {
   "cell_type": "markdown",
   "metadata": {},
   "source": [
    "Al fusionar los datasets ***contract_services*** y ***phone***, es importante considerar que la columna **multiple_lines** ahora puede tener tres posibles valores:\n",
    "\n",
    "- `NaN`: El cliente no contrato servicio de telefonia fija.\n",
    "- `No`: El clente contrató servicios de telefonia fija pero solo dispone de una linea.\n",
    "- `Yes`: Cuenta con servicio de multiples lineas de telefonia fija.\n",
    "\n",
    "Lo mismo ocurre con la columna **internet_service**: además de los valores `DSL` y `Fiber optic` ahora pueden aparecer valores nulos. Es recomendable reemplazarlos para evitar errores en el análisis. Además, estos valores serán útiles para comparar las tasas de contratación y cancelación entre clientes que contratan ambos servicios y aquellos que solo optan por uno de ellos."
   ]
  },
  {
   "cell_type": "code",
   "execution_count": 84,
   "metadata": {},
   "outputs": [],
   "source": [
    "contract_services['multiple_lines'] = contract_services['multiple_lines'].fillna('Internet Only')\n",
    "contract_services['internet_service'] = contract_services['internet_service'].fillna('Phone Only')"
   ]
  },
  {
   "cell_type": "code",
   "execution_count": 85,
   "metadata": {},
   "outputs": [
    {
     "data": {
      "image/png": "[encoded data removed]",
      "text/plain": [
       "<Figure size 600x400 with 1 Axes>"
      ]
     },
     "metadata": {},
     "output_type": "display_data"
    }
   ],
   "source": [
    "cancel_by_lines = contract_services.groupby(['multiple_lines', 'canceled'])['canceled'].size().unstack()\n",
    "lineas = ['Solo Internet', 'Linea Unica', 'Lineas Multiples']\n",
    "cancel_by_lines.plot(kind='bar', figsize=(6,4), colormap='coolwarm')\n",
    "plt.title('Distribución de Cancelaciones de Telefonía')\n",
    "plt.xlabel('Conexión Telefónica')\n",
    "plt.ylabel('Cantidad de Clientes')\n",
    "plt.xticks(ticks=range(len(cancel_by_lines.index)), labels=lineas, rotation=0)\n",
    "plt.legend(['No Cancelado', 'Cancelado'])\n",
    "plt.show()"
   ]
  },
  {
   "cell_type": "markdown",
   "metadata": {},
   "source": [
    "En el gráfico, la cantidad de clientes con Single Line es mayor que los de Multiple Lines.\n",
    "\n",
    "La cantidad de cancelaciones en ambas categorías parece similar en términos absolutos. Sin embargo, la tasa de cancelación (cancelados/contratados) parece mayor en múltiples líneas, ya que el total de clientes es menor que en línea única, pero las cancelaciones son casi las mismas.\n",
    "\n",
    "En el gráfico también se observa la proporción de clientes que contratan únicamente internet y no el servicio telefónico, los cuales son menos de 1000. Sin embargo, la tasa de cancelación en este grupo es similar a la de aquellos que sí contratan líneas de telefonía fija.\n",
    "\n",
    "La tasa de cancelación de la línea única representa casi un cuarto del total de contrataciones, mientras que la de múltiples líneas alcanza casi un tercio. "
   ]
  },
  {
   "cell_type": "code",
   "execution_count": 86,
   "metadata": {},
   "outputs": [
    {
     "data": {
      "image/png": "[encoded data removed]",
      "text/plain": [
       "<Figure size 600x400 with 1 Axes>"
      ]
     },
     "metadata": {},
     "output_type": "display_data"
    }
   ],
   "source": [
    "canceled_by_internet = contract_services.groupby(['internet_service', 'canceled'])['canceled'].size().unstack()\n",
    "conexion_type = ['DSL','Fibra óptica', 'Sólo telefonía']\n",
    "canceled_by_internet.plot(kind='bar', figsize=(6,4), colormap='coolwarm')\n",
    "plt.title('Distribución de Cancelaciones por Tipo de Internet')\n",
    "plt.xlabel('Tipo de Conexión')\n",
    "plt.ylabel('Cantidad de Clientes')\n",
    "plt.xticks(ticks= range(len(conexion_type)), labels=conexion_type, rotation=0)\n",
    "plt.legend(['No Cancelado', 'Cancelado'])\n",
    "plt.show()"
   ]
  },
  {
   "cell_type": "markdown",
   "metadata": {},
   "source": [
    "La tasa de cancelación del servicio de `Internet de fibra óptica` es considerablemente alta, alcanzando aproximadamente el 43% de los clientes que lo contratan. En contraste, el servicio de  `DSL` presenta una mayor retencion de clientes y una tasa de cancelación significativamente más baja, cercana al 25% del total de clientes que lo eligen.\n",
    "\n",
    "Además, el gráfico muestra una tercera categoría correspondiente a los clientes que **no** contratan internet pero sí servicio de `telefonía fija`. La cantidad de clientes en esta categoría es aproximadamente tres veces mayor que la de aquellos que contratan solo internet. Su tasa de cancelación, tanto en términos relativos como absolutos, es la más baja de todas, con apenas un 10% de cancelaciones.\n",
    "\n",
    "Es conveniente analizar en detalle la relación entre la tasa de cancelación y el tipo de servicio contratado, ya sea solo Internet, solo telefonía o ambos. Esto permitirá identificar patrones de cancelación según el tipo de contratación y proponer estrategias para mejorar la retención de clientes."
   ]
  },
  {
   "cell_type": "code",
   "execution_count": 87,
   "metadata": {},
   "outputs": [
    {
     "data": {
      "image/png": "[encoded data removed]",
      "text/plain": [
       "<Figure size 600x400 with 1 Axes>"
      ]
     },
     "metadata": {},
     "output_type": "display_data"
    }
   ],
   "source": [
    "which_services=  contract_services.groupby(['service_category', 'canceled'])[\"canceled\"].size().unstack()\n",
    "which_services.plot(kind='bar', figsize=(6,4), colormap='coolwarm')\n",
    "plt.title('Distribución de Cancelaciones por Servicio Contratado')\n",
    "plt.xlabel('Servicio')\n",
    "plt.ylabel('Cantidad de Clientes')\n",
    "plt.xticks(rotation=0)\n",
    "plt.legend(['No Cancelado', 'Cancelado'])\n",
    "plt.show()"
   ]
  },
  {
   "cell_type": "markdown",
   "metadata": {},
   "source": [
    "Más de la mitad de los clientes (aproximadamente 4,900) contratan ambos servicios (telefonía e Internet). Aunque esta categoría es la más numerosa, su tasa de cancelación es relativamente alta, cercana al 31%. Como se observó en gráficos anteriores, la cantidad de clientes que contratan solo Internet es mucho menor, alrededor de 700, pero su tasa de cancelación sigue siendo elevada en proporción a las contrataciones. En contraste, el servicio de telefonía fija tiene la menor tasa de cancelación tanto en términos absolutos como relativos: aproximadamente 1,750 clientes lo contratan, y menos de 250 lo cancelan."
   ]
  },
  {
   "cell_type": "code",
   "execution_count": 88,
   "metadata": {},
   "outputs": [
    {
     "data": {
      "text/html": [
       "<div>\n",
       "<style scoped>\n",
       "    .dataframe tbody tr th:only-of-type {\n",
       "        vertical-align: middle;\n",
       "    }\n",
       "\n",
       "    .dataframe tbody tr th {\n",
       "        vertical-align: top;\n",
       "    }\n",
       "\n",
       "    .dataframe thead th {\n",
       "        text-align: right;\n",
       "    }\n",
       "</style>\n",
       "<table border=\"1\" class=\"dataframe\">\n",
       "  <thead>\n",
       "    <tr style=\"text-align: right;\">\n",
       "      <th></th>\n",
       "      <th>customer_id</th>\n",
       "      <th>begin_date</th>\n",
       "      <th>end_date</th>\n",
       "      <th>type</th>\n",
       "      <th>paperless_billing</th>\n",
       "      <th>payment_method</th>\n",
       "      <th>monthly_charges</th>\n",
       "      <th>total_charges</th>\n",
       "      <th>canceled</th>\n",
       "      <th>duration_months</th>\n",
       "      <th>gender</th>\n",
       "      <th>senior_citizen</th>\n",
       "      <th>partner</th>\n",
       "      <th>dependents</th>\n",
       "    </tr>\n",
       "  </thead>\n",
       "  <tbody>\n",
       "    <tr>\n",
       "      <th>0</th>\n",
       "      <td>7590-VHVEG</td>\n",
       "      <td>2020-01-01</td>\n",
       "      <td>NaT</td>\n",
       "      <td>Month-to-month</td>\n",
       "      <td>Yes</td>\n",
       "      <td>Electronic check</td>\n",
       "      <td>29.85</td>\n",
       "      <td>29.85</td>\n",
       "      <td>0</td>\n",
       "      <td>2.0</td>\n",
       "      <td>Female</td>\n",
       "      <td>No</td>\n",
       "      <td>Yes</td>\n",
       "      <td>No</td>\n",
       "    </tr>\n",
       "    <tr>\n",
       "      <th>1</th>\n",
       "      <td>5575-GNVDE</td>\n",
       "      <td>2017-04-01</td>\n",
       "      <td>NaT</td>\n",
       "      <td>One year</td>\n",
       "      <td>No</td>\n",
       "      <td>Mailed check</td>\n",
       "      <td>56.95</td>\n",
       "      <td>1889.50</td>\n",
       "      <td>0</td>\n",
       "      <td>35.0</td>\n",
       "      <td>Male</td>\n",
       "      <td>No</td>\n",
       "      <td>No</td>\n",
       "      <td>No</td>\n",
       "    </tr>\n",
       "    <tr>\n",
       "      <th>2</th>\n",
       "      <td>3668-QPYBK</td>\n",
       "      <td>2019-10-01</td>\n",
       "      <td>2019-12-01</td>\n",
       "      <td>Month-to-month</td>\n",
       "      <td>Yes</td>\n",
       "      <td>Mailed check</td>\n",
       "      <td>53.85</td>\n",
       "      <td>108.15</td>\n",
       "      <td>1</td>\n",
       "      <td>3.0</td>\n",
       "      <td>Male</td>\n",
       "      <td>No</td>\n",
       "      <td>No</td>\n",
       "      <td>No</td>\n",
       "    </tr>\n",
       "  </tbody>\n",
       "</table>\n",
       "</div>"
      ],
      "text/plain": [
       "  customer_id begin_date   end_date            type paperless_billing  \\\n",
       "0  7590-VHVEG 2020-01-01        NaT  Month-to-month               Yes   \n",
       "1  5575-GNVDE 2017-04-01        NaT        One year                No   \n",
       "2  3668-QPYBK 2019-10-01 2019-12-01  Month-to-month               Yes   \n",
       "\n",
       "     payment_method  monthly_charges  total_charges  canceled  \\\n",
       "0  Electronic check            29.85          29.85         0   \n",
       "1      Mailed check            56.95        1889.50         0   \n",
       "2      Mailed check            53.85         108.15         1   \n",
       "\n",
       "   duration_months  gender senior_citizen partner dependents  \n",
       "0              2.0  Female             No     Yes         No  \n",
       "1             35.0    Male             No      No         No  \n",
       "2              3.0    Male             No      No         No  "
      ]
     },
     "execution_count": 88,
     "metadata": {},
     "output_type": "execute_result"
    }
   ],
   "source": [
    "contract_personal = contract_df.merge(personal_df, how='outer', on='customer_id')\n",
    "contract_personal.head(3)"
   ]
  },
  {
   "cell_type": "markdown",
   "metadata": {},
   "source": [
    "#### Análisis de Cancelaciones según Características Personales del Cliente"
   ]
  },
  {
   "cell_type": "code",
   "execution_count": 89,
   "metadata": {},
   "outputs": [
    {
     "data": {
      "image/png": "[encoded data removed]",
      "text/plain": [
       "<Figure size 800x600 with 4 Axes>"
      ]
     },
     "metadata": {},
     "output_type": "display_data"
    }
   ],
   "source": [
    "# Fusionar ambos DataFrames\n",
    "contract_personal = contract_df.merge(personal_df, how='outer', on='customer_id')\n",
    "\n",
    "# Seleccionar columnas de interés\n",
    "personal_cols = ['dependents', 'gender', 'partner', 'senior_citizen']\n",
    "\n",
    "personal_labels = {'dependents': 'Dependientes', 'gender': 'Género', 'partner': 'Pareja','senior_citizen': 'Adulto Mayor'\n",
    "                   }\n",
    "\n",
    "# Convertir a DataFrame plano para seaborn\n",
    "df_long = contract_personal.melt(id_vars=['customer_id', 'canceled'], \n",
    "                                 value_vars=personal_cols, \n",
    "                                 var_name='personal_features', \n",
    "                                 value_name='status')\n",
    "\n",
    "# Contar clientes que contrataron (canceled = 0) y que cancelaron (canceled = 1)\n",
    "df_grouped = df_long.groupby(['personal_features', 'status', 'canceled']).size().reset_index(name='count')\n",
    "\n",
    "# Separar en dos DataFrames: contrataciones y cancelaciones\n",
    "df_no_canceled = df_grouped[df_grouped['canceled'] == 0]\n",
    "df_canceled = df_grouped[df_grouped['canceled'] == 1]\n",
    "\n",
    "# Graficar\n",
    "plt.figure(figsize=(8, 6))\n",
    "\n",
    "# Crear subplots para cada característica personal\n",
    "for i, feature in enumerate(personal_cols, 1):\n",
    "    plt.subplot(2, 2, i)\n",
    "    \n",
    "    # Filtrar datos para la característica actual\n",
    "    no_canceled_feature = df_no_canceled[df_no_canceled['personal_features'] == feature]\n",
    "    canceled_feature = df_canceled[df_canceled['personal_features'] == feature]\n",
    "    \n",
    "    # Combinar datos para graficar\n",
    "    df_plot = pd.merge(no_canceled_feature, canceled_feature, \n",
    "                       on=['personal_features', 'status'], \n",
    "                       suffixes=('_contrataciones', '_cancelaciones'))\n",
    "    \n",
    "    # Graficar barras\n",
    "    sns.barplot(data=df_plot, x='status', y='count_contrataciones', color='blue', label='No Cancelado')\n",
    "    sns.barplot(data=df_plot, x='status', y='count_cancelaciones', color='red', label='Cancelados', alpha=0.7)\n",
    "    \n",
    "    # Personalizar el gráfico\n",
    "    plt.title(f'Contrataciones vs Cancelaciones: {personal_labels[feature]}')\n",
    "    plt.xlabel(personal_labels[feature])\n",
    "    plt.ylabel('Cantidad de Clientes')\n",
    "    plt.legend()\n",
    "\n",
    "plt.tight_layout()\n",
    "plt.show()"
   ]
  },
  {
   "cell_type": "markdown",
   "metadata": {},
   "source": [
    "El análisis de los gráficos no muestra una relación evidente entre las características personales del cliente y la tasa de cancelación del servicio. Sin embargo, se pueden identificar algunas tendencias:\n",
    "\n",
    "`Dependientes`: Hay una mayor cantidad de clientes sin dependientes en comparación con aquellos que sí los tienen. Además, la tasa de cancelación es más alta entre los clientes sin dependientes, mientras que los clientes con dependientes parecen cancelar el servicio con menor frecuencia.\n",
    "\n",
    "`Género`: No se observa ninguna diferencia significativa en la tasa de cancelación entre hombres y mujeres. La cantidad de clientes en cada grupo es similar, y la proporción de cancelaciones es prácticamente la misma, lo que sugiere que el género no influye en la decisión de cancelar el servicio.\n",
    "\n",
    "`Pareja`: Aunque la cantidad de clientes con y sin pareja es relativamente similar, los clientes sin pareja presentan una tasa de cancelación más alta. Esto indica que las personas en pareja podrían ser más propensas a mantener el servicio.\n",
    "\n",
    "`Adulto Mayor`: La cantidad total de clientes adultos mayores es considerablemente menor en comparación con otros grupos. Sin embargo, su tasa de cancelación es más alta, lo que podría indicar que este segmento de clientes es más propenso a dar de baja el servicio.\n",
    "\n",
    "En general, aunque no hay una relación clara entre las características personales y la cancelación del servicio, se observa que los clientes sin pareja, sin dependientes y los adultos mayores tienden a cancelar con mayor frecuencia."
   ]
  },
  {
   "cell_type": "code",
   "execution_count": 90,
   "metadata": {},
   "outputs": [
    {
     "data": {
      "text/html": [
       "<div>\n",
       "<style scoped>\n",
       "    .dataframe tbody tr th:only-of-type {\n",
       "        vertical-align: middle;\n",
       "    }\n",
       "\n",
       "    .dataframe tbody tr th {\n",
       "        vertical-align: top;\n",
       "    }\n",
       "\n",
       "    .dataframe thead th {\n",
       "        text-align: right;\n",
       "    }\n",
       "</style>\n",
       "<table border=\"1\" class=\"dataframe\">\n",
       "  <thead>\n",
       "    <tr style=\"text-align: right;\">\n",
       "      <th></th>\n",
       "      <th>customer_id</th>\n",
       "      <th>begin_date</th>\n",
       "      <th>end_date</th>\n",
       "      <th>type</th>\n",
       "      <th>paperless_billing</th>\n",
       "      <th>payment_method</th>\n",
       "      <th>monthly_charges</th>\n",
       "      <th>total_charges</th>\n",
       "      <th>canceled</th>\n",
       "      <th>duration_months</th>\n",
       "      <th>...</th>\n",
       "      <th>device_protection</th>\n",
       "      <th>tech_support</th>\n",
       "      <th>streaming_tv</th>\n",
       "      <th>streaming_movies</th>\n",
       "      <th>multiple_lines</th>\n",
       "      <th>service_category</th>\n",
       "      <th>gender</th>\n",
       "      <th>senior_citizen</th>\n",
       "      <th>partner</th>\n",
       "      <th>dependents</th>\n",
       "    </tr>\n",
       "  </thead>\n",
       "  <tbody>\n",
       "    <tr>\n",
       "      <th>0</th>\n",
       "      <td>7590-VHVEG</td>\n",
       "      <td>2020-01-01</td>\n",
       "      <td>No</td>\n",
       "      <td>Month-to-month</td>\n",
       "      <td>Yes</td>\n",
       "      <td>Electronic check</td>\n",
       "      <td>29.85</td>\n",
       "      <td>29.85</td>\n",
       "      <td>0</td>\n",
       "      <td>2.0</td>\n",
       "      <td>...</td>\n",
       "      <td>No</td>\n",
       "      <td>No</td>\n",
       "      <td>No</td>\n",
       "      <td>No</td>\n",
       "      <td>Internet Only</td>\n",
       "      <td>Solo Internet</td>\n",
       "      <td>Female</td>\n",
       "      <td>No</td>\n",
       "      <td>Yes</td>\n",
       "      <td>No</td>\n",
       "    </tr>\n",
       "    <tr>\n",
       "      <th>1</th>\n",
       "      <td>5575-GNVDE</td>\n",
       "      <td>2017-04-01</td>\n",
       "      <td>No</td>\n",
       "      <td>One year</td>\n",
       "      <td>No</td>\n",
       "      <td>Mailed check</td>\n",
       "      <td>56.95</td>\n",
       "      <td>1889.50</td>\n",
       "      <td>0</td>\n",
       "      <td>35.0</td>\n",
       "      <td>...</td>\n",
       "      <td>Yes</td>\n",
       "      <td>No</td>\n",
       "      <td>No</td>\n",
       "      <td>No</td>\n",
       "      <td>No</td>\n",
       "      <td>Ambos</td>\n",
       "      <td>Male</td>\n",
       "      <td>No</td>\n",
       "      <td>No</td>\n",
       "      <td>No</td>\n",
       "    </tr>\n",
       "    <tr>\n",
       "      <th>2</th>\n",
       "      <td>3668-QPYBK</td>\n",
       "      <td>2019-10-01</td>\n",
       "      <td>2019-12-01 00:00:00</td>\n",
       "      <td>Month-to-month</td>\n",
       "      <td>Yes</td>\n",
       "      <td>Mailed check</td>\n",
       "      <td>53.85</td>\n",
       "      <td>108.15</td>\n",
       "      <td>1</td>\n",
       "      <td>3.0</td>\n",
       "      <td>...</td>\n",
       "      <td>No</td>\n",
       "      <td>No</td>\n",
       "      <td>No</td>\n",
       "      <td>No</td>\n",
       "      <td>No</td>\n",
       "      <td>Ambos</td>\n",
       "      <td>Male</td>\n",
       "      <td>No</td>\n",
       "      <td>No</td>\n",
       "      <td>No</td>\n",
       "    </tr>\n",
       "  </tbody>\n",
       "</table>\n",
       "<p>3 rows × 23 columns</p>\n",
       "</div>"
      ],
      "text/plain": [
       "  customer_id begin_date             end_date            type  \\\n",
       "0  7590-VHVEG 2020-01-01                   No  Month-to-month   \n",
       "1  5575-GNVDE 2017-04-01                   No        One year   \n",
       "2  3668-QPYBK 2019-10-01  2019-12-01 00:00:00  Month-to-month   \n",
       "\n",
       "  paperless_billing    payment_method  monthly_charges  total_charges  \\\n",
       "0               Yes  Electronic check            29.85          29.85   \n",
       "1                No      Mailed check            56.95        1889.50   \n",
       "2               Yes      Mailed check            53.85         108.15   \n",
       "\n",
       "   canceled  duration_months  ... device_protection tech_support streaming_tv  \\\n",
       "0         0              2.0  ...                No           No           No   \n",
       "1         0             35.0  ...               Yes           No           No   \n",
       "2         1              3.0  ...                No           No           No   \n",
       "\n",
       "  streaming_movies multiple_lines service_category  gender senior_citizen  \\\n",
       "0               No  Internet Only    Solo Internet  Female             No   \n",
       "1               No             No            Ambos    Male             No   \n",
       "2               No             No            Ambos    Male             No   \n",
       "\n",
       "  partner dependents  \n",
       "0     Yes         No  \n",
       "1      No         No  \n",
       "2      No         No  \n",
       "\n",
       "[3 rows x 23 columns]"
      ]
     },
     "execution_count": 90,
     "metadata": {},
     "output_type": "execute_result"
    }
   ],
   "source": [
    "df_full = contract_services.merge(personal_df, how='left', on='customer_id')\n",
    "df_full.head(3)\n"
   ]
  },
  {
   "cell_type": "markdown",
   "metadata": {},
   "source": [
    "### Ingenieria de Caracteristicas\n",
    "Antes de proceder con la construcción del modelo, se ha definido un plan para el tratamiento de las columnas del dataset con el objetivo de optimizar el proceso de entrenamiento y mejorar la calidad de las predicciones.\n",
    "\n",
    "**1. Eliminación de Columnas Irrelevantes**\n",
    "\n",
    "Se han identificado las siguientes columnas que no aportan información útil para el modelo:\n",
    "\n",
    "- `customer_id`: Es un identificador único para cada cliente, pero no tiene un impacto directo en la predicción de cancelaciones.\n",
    "\n",
    "- `begin_date` y `end_date`: Se utilizaron para calcular la duración de la suscripción en meses, pero al ya contar con la columna `duration_months`, estas fechas dejan de ser necesarias.\n",
    "\n",
    "- `canceled`: Esta es la variable objetivo, por lo que debe separarse del conjunto de entrenamiento.\n",
    "\n",
    "- `service_category`: Fue creada para facilitar el análisis gráfico de los tipos de servicio contratados, pero no aporta nueva información al modelo, ya que los datos subyacentes sobre los servicios están representados en otras columnas.\n",
    "\n",
    "**2. Tratamiento de Columnas Categóricas**\n",
    "\n",
    "- Las variables categóricas serán transformadas mediante **One-Hot Encoding (OHE)** para convertirlas en un formato adecuado para los algoritmos de machine learning.\n",
    "\n",
    "- Se aplicará **OHE** a todas las columnas categóricas, generando variables binarias para cada categoría presente.\n",
    "\n",
    "- Se utilizará la opción `drop_first=True` para evitar colinealidad, eliminando la primera categoría de cada variable.\n",
    "\n",
    "**3. Mantenimiento de Columnas Numéricas**\n",
    "\n",
    "Las siguientes columnas contienen valores numéricos relevantes y se mantendrán en el dataset sin modificaciones:\n",
    "\n",
    "- `monthly_charges`: Representa el monto cobrado mensualmente al cliente.\n",
    "\n",
    "- `total_charges`: Suma total pagada por el cliente durante su permanencia en la empresa.\n",
    "\n",
    "- Dado que la antigüedad del cliente ha demostrado ser un factor relevante, la columna `duration_months` podría no ser lo suficientemente descriptiva por sí sola. Por ello, a partir de `begin_date`, se generarán dos nuevas columnas:\n",
    "\n",
    "- `begin_year`: Año en que comenzó el contrato.\n",
    "- `begin_month`: Mes en que comenzó el contrato.\n",
    "\n",
    "Los modelos serán entrenados con y sin estas nuevas columnas para evaluar su impacto en el desempeño y determinar si deben conservarse.\n",
    "\n",
    "**4. Evaluación de Otras Variables**\n",
    "\n",
    "- Las columnas `paperless_billing` y `payment_method` serán mantenidas en una primera iteración del modelo para evaluar su impacto en la predicción. Posteriormente, se eliminarán para analizar si la precisión del modelo mejora sin ellas.\n",
    "\n",
    "- Las columnas relacionadas con los servicios contratados (`device_protection`, `tech_support`, `streaming_tv`, `streaming_movies`, `multiple_lines`) serán conservadas, ya que contienen información sobre las preferencias de los clientes y podrían ser relevantes para la predicción de cancelaciones.\n",
    "\n",
    "- Las variables personales (`gender`, `senior_citizen`, `partner`, `dependents`) serán evaluadas en el modelo de la misma manera que `paperless_billing` y `payment_method`, para analizar su impacto y decidir si deben ser eliminadas en futuras iteraciones.\n",
    "\n",
    "- Este enfoque permite garantizar que solo se utilicen las características más relevantes en la predicción de cancelaciones, minimizando el riesgo de incluir datos innecesarios y optimizando la capacidad del modelo para detectar patrones en el comportamiento de los clientes."
   ]
  },
  {
   "cell_type": "code",
   "execution_count": 91,
   "metadata": {},
   "outputs": [
    {
     "name": "stdout",
     "output_type": "stream",
     "text": [
      "  begin_date  begin_year  begin_month\n",
      "0 2020-01-01        2020            1\n",
      "1 2017-04-01        2017            4\n",
      "2 2019-10-01        2019           10\n"
     ]
    }
   ],
   "source": [
    "# Extraer año y mes\n",
    "df_full['begin_year'] = df_full['begin_date'].dt.year\n",
    "df_full['begin_month'] = df_full['begin_date'].dt.month\n",
    "\n",
    "# Mostrar las primeras filas para verificar\n",
    "print(df_full[['begin_date', 'begin_year', 'begin_month']].head(3))"
   ]
  },
  {
   "cell_type": "code",
   "execution_count": 92,
   "metadata": {},
   "outputs": [
    {
     "name": "stdout",
     "output_type": "stream",
     "text": [
      "(4225, 23) (1409, 23) (1409, 23)\n"
     ]
    },
    {
     "data": {
      "text/html": [
       "<div>\n",
       "<style scoped>\n",
       "    .dataframe tbody tr th:only-of-type {\n",
       "        vertical-align: middle;\n",
       "    }\n",
       "\n",
       "    .dataframe tbody tr th {\n",
       "        vertical-align: top;\n",
       "    }\n",
       "\n",
       "    .dataframe thead th {\n",
       "        text-align: right;\n",
       "    }\n",
       "</style>\n",
       "<table border=\"1\" class=\"dataframe\">\n",
       "  <thead>\n",
       "    <tr style=\"text-align: right;\">\n",
       "      <th></th>\n",
       "      <th>monthly_charges</th>\n",
       "      <th>total_charges</th>\n",
       "      <th>begin_year</th>\n",
       "      <th>begin_month</th>\n",
       "      <th>duration_months</th>\n",
       "      <th>type_One year</th>\n",
       "      <th>type_Two year</th>\n",
       "      <th>payment_method_Credit card (automatic)</th>\n",
       "      <th>payment_method_Electronic check</th>\n",
       "      <th>payment_method_Mailed check</th>\n",
       "      <th>...</th>\n",
       "      <th>online_backup_Yes</th>\n",
       "      <th>device_protection_Yes</th>\n",
       "      <th>tech_support_Yes</th>\n",
       "      <th>streaming_tv_Yes</th>\n",
       "      <th>streaming_movies_Yes</th>\n",
       "      <th>multiple_lines_No</th>\n",
       "      <th>multiple_lines_Yes</th>\n",
       "      <th>gender_Male</th>\n",
       "      <th>senior_citizen_Yes</th>\n",
       "      <th>dependents_Yes</th>\n",
       "    </tr>\n",
       "  </thead>\n",
       "  <tbody>\n",
       "    <tr>\n",
       "      <th>0</th>\n",
       "      <td>0.251368</td>\n",
       "      <td>0.003437</td>\n",
       "      <td>1.000000</td>\n",
       "      <td>0.083333</td>\n",
       "      <td>2.0</td>\n",
       "      <td>False</td>\n",
       "      <td>False</td>\n",
       "      <td>False</td>\n",
       "      <td>True</td>\n",
       "      <td>False</td>\n",
       "      <td>...</td>\n",
       "      <td>True</td>\n",
       "      <td>False</td>\n",
       "      <td>False</td>\n",
       "      <td>False</td>\n",
       "      <td>False</td>\n",
       "      <td>False</td>\n",
       "      <td>False</td>\n",
       "      <td>False</td>\n",
       "      <td>False</td>\n",
       "      <td>False</td>\n",
       "    </tr>\n",
       "    <tr>\n",
       "      <th>1</th>\n",
       "      <td>0.479579</td>\n",
       "      <td>0.217564</td>\n",
       "      <td>0.998515</td>\n",
       "      <td>0.333333</td>\n",
       "      <td>35.0</td>\n",
       "      <td>True</td>\n",
       "      <td>False</td>\n",
       "      <td>False</td>\n",
       "      <td>False</td>\n",
       "      <td>True</td>\n",
       "      <td>...</td>\n",
       "      <td>False</td>\n",
       "      <td>True</td>\n",
       "      <td>False</td>\n",
       "      <td>False</td>\n",
       "      <td>False</td>\n",
       "      <td>True</td>\n",
       "      <td>False</td>\n",
       "      <td>True</td>\n",
       "      <td>False</td>\n",
       "      <td>False</td>\n",
       "    </tr>\n",
       "    <tr>\n",
       "      <th>2</th>\n",
       "      <td>0.453474</td>\n",
       "      <td>0.012453</td>\n",
       "      <td>0.999505</td>\n",
       "      <td>0.833333</td>\n",
       "      <td>3.0</td>\n",
       "      <td>False</td>\n",
       "      <td>False</td>\n",
       "      <td>False</td>\n",
       "      <td>False</td>\n",
       "      <td>True</td>\n",
       "      <td>...</td>\n",
       "      <td>True</td>\n",
       "      <td>False</td>\n",
       "      <td>False</td>\n",
       "      <td>False</td>\n",
       "      <td>False</td>\n",
       "      <td>True</td>\n",
       "      <td>False</td>\n",
       "      <td>True</td>\n",
       "      <td>False</td>\n",
       "      <td>False</td>\n",
       "    </tr>\n",
       "  </tbody>\n",
       "</table>\n",
       "<p>3 rows × 23 columns</p>\n",
       "</div>"
      ],
      "text/plain": [
       "   monthly_charges  total_charges  begin_year  begin_month  duration_months  \\\n",
       "0         0.251368       0.003437    1.000000     0.083333              2.0   \n",
       "1         0.479579       0.217564    0.998515     0.333333             35.0   \n",
       "2         0.453474       0.012453    0.999505     0.833333              3.0   \n",
       "\n",
       "   type_One year  type_Two year  payment_method_Credit card (automatic)  \\\n",
       "0          False          False                                   False   \n",
       "1           True          False                                   False   \n",
       "2          False          False                                   False   \n",
       "\n",
       "   payment_method_Electronic check  payment_method_Mailed check  ...  \\\n",
       "0                             True                        False  ...   \n",
       "1                            False                         True  ...   \n",
       "2                            False                         True  ...   \n",
       "\n",
       "   online_backup_Yes  device_protection_Yes  tech_support_Yes  \\\n",
       "0               True                  False             False   \n",
       "1              False                   True             False   \n",
       "2               True                  False             False   \n",
       "\n",
       "   streaming_tv_Yes  streaming_movies_Yes  multiple_lines_No  \\\n",
       "0             False                 False              False   \n",
       "1             False                 False               True   \n",
       "2             False                 False               True   \n",
       "\n",
       "   multiple_lines_Yes  gender_Male  senior_citizen_Yes  dependents_Yes  \n",
       "0               False        False               False           False  \n",
       "1               False         True               False           False  \n",
       "2               False         True               False           False  \n",
       "\n",
       "[3 rows x 23 columns]"
      ]
     },
     "execution_count": 92,
     "metadata": {},
     "output_type": "execute_result"
    }
   ],
   "source": [
    "from sklearn.model_selection import train_test_split\n",
    "from sklearn.preprocessing import MaxAbsScaler \n",
    "\n",
    "# Eliminar columnas innecesarias\n",
    "X = df_full.drop(['customer_id', 'begin_date', 'end_date', 'canceled', 'service_category', 'partner', 'paperless_billing'], axis=1)\n",
    "y = df_full['canceled']\n",
    "\n",
    "# Separar columnas numéricas y categóricas\n",
    "num_cols = ['monthly_charges', 'total_charges', 'begin_year', 'begin_month' ]\n",
    "cat_cols = [col for col in X.columns if col not in num_cols]\n",
    "\n",
    "# Escalar Datos\n",
    "X[num_cols] = MaxAbsScaler().fit_transform(X[num_cols])\n",
    "\n",
    "# Aplicar OneHotEncoding solo a las categóricas\n",
    "X_ohe = pd.get_dummies(X[cat_cols], drop_first=True)  # `drop_first=True` evita colinealidad\n",
    "\n",
    "# Concatenar las columnas numéricas con las categóricas codificadas\n",
    "X_final = pd.concat([X[num_cols].reset_index(drop=True), X_ohe.reset_index(drop=True)], axis=1)\n",
    "\n",
    "# Dividir datos en entrenamiento + validación y prueba\n",
    "X_train_valid, X_test, y_train_valid, y_test = train_test_split(X_final, y, test_size=0.2, random_state=123, stratify=y)\n",
    "\n",
    "# Dividir entrenamiento + validación en entrenamiento y validación\n",
    "X_train, X_valid, y_train, y_valid = train_test_split(X_train_valid, y_train_valid, test_size=0.25, random_state=123)\n",
    "\n",
    "# Verificar el resultado\n",
    "print(X_train.shape, X_valid.shape, X_test.shape)\n",
    "X_final.head(3)"
   ]
  },
  {
   "cell_type": "code",
   "execution_count": 93,
   "metadata": {},
   "outputs": [
    {
     "data": {
      "text/plain": [
       "canceled\n",
       "0    5174\n",
       "1    1869\n",
       "Name: count, dtype: int64"
      ]
     },
     "execution_count": 93,
     "metadata": {},
     "output_type": "execute_result"
    }
   ],
   "source": [
    "# Verificar el equilibrio de clases\n",
    "y.value_counts()"
   ]
  },
  {
   "cell_type": "markdown",
   "metadata": {},
   "source": [
    "Las clases están desbalanceadas, ya que hay más del doble de clientes con contrato vigente en comparación con los que han cancelado el servicio. Inicialmente, se evaluará la calidad de los modelos utilizando los datos sin aplicar técnicas de balanceo. Dependiendo de las métricas de desempeño obtenidas, se determinará si es necesario aplicar estrategias para equilibrar las clases y mejorar la predicción de la clase minoritaria."
   ]
  },
  {
   "cell_type": "markdown",
   "metadata": {},
   "source": [
    "### Entrenamiento de Modelos\n",
    "#### Regresión Logistica"
   ]
  },
  {
   "cell_type": "code",
   "execution_count": 94,
   "metadata": {},
   "outputs": [
    {
     "name": "stdout",
     "output_type": "stream",
     "text": [
      "0.7346301292063041\n"
     ]
    }
   ],
   "source": [
    "from sklearn.metrics import precision_score, recall_score\n",
    "from sklearn.metrics import f1_score, accuracy_score, roc_auc_score\n",
    "print(accuracy_score(y, y_pred_constant))"
   ]
  },
  {
   "cell_type": "code",
   "execution_count": 95,
   "metadata": {},
   "outputs": [],
   "source": [
    "# Definir índices y columnas\n",
    "models = ['LogisticRegression', 'RandomForest', 'XGBoost']\n",
    "metrics = ['F1_Score', 'AUC_ROC', 'Recall', 'Precision', 'Accuracy']\n",
    "comparation_model_df = pd.DataFrame(index=models, columns=metrics)"
   ]
  },
  {
   "cell_type": "code",
   "execution_count": 96,
   "metadata": {},
   "outputs": [
    {
     "name": "stdout",
     "output_type": "stream",
     "text": [
      "                    F1_Score   AUC_ROC    Recall Precision  Accuracy\n",
      "LogisticRegression  0.634921  0.863663  0.854701  0.505051  0.755145\n",
      "RandomForest             NaN       NaN       NaN       NaN       NaN\n",
      "XGBoost                  NaN       NaN       NaN       NaN       NaN\n"
     ]
    }
   ],
   "source": [
    "from sklearn.linear_model import LogisticRegression\n",
    "\n",
    "# Entrenar modelo de Regresión Logística\n",
    "lr_model = LogisticRegression(random_state=1234, solver='liblinear', class_weight='balanced')\n",
    "lr_model.fit(X_train, y_train)\n",
    "\n",
    "# Predicciones y métricas\n",
    "lr_predictions = lr_model.predict(X_valid)\n",
    "lr_probabilities = lr_model.predict_proba(X_valid)[:, 1]\n",
    "\n",
    "# Almacenar resultados en la tabla\n",
    "comparation_model_df.loc['LogisticRegression'] = [\n",
    "    f1_score(y_valid, lr_predictions),\n",
    "    roc_auc_score(y_valid, lr_probabilities),\n",
    "    recall_score(y_valid, lr_predictions),\n",
    "    precision_score(y_valid, lr_predictions),\n",
    "    accuracy_score(y_valid, lr_predictions)\n",
    "]\n",
    "\n",
    "# Mostrar resultados\n",
    "print(comparation_model_df)\n"
   ]
  },
  {
   "cell_type": "markdown",
   "metadata": {},
   "source": [
    "#### Análisis del Modelo de Regresión Logística\n",
    "El modelo de **Regresión Logística** obtuvo un ***F1-score*** de $0.635$ y una ***Exactitud*** de $0.755$, lo que indica que su desempeño no es significativamente mejor que una predicción al azar. Presenta un ***recall*** de $0.855$, superior a su ***precisión*** de $0.505$, lo que significa que identifica correctamente a la mayoría de los clientes que cancelaron su contrato, pero con baja precisión, clasificando erróneamente a varios clientes vigentes como cancelados.\n",
    "\n",
    "El valor del ***Área Bajo la Curva ROC (AUC-ROC)*** es $0.863$, lo que indica que el modelo distingue relativamente bien entre las clases 0 y 1.\n",
    "\n",
    "Se comparó el desempeño del modelo con y sin las nuevas columnas derivadas de `begin_date` (`begin_year` y `begin_month`). Los resultados iniciales del modelo sin estas características fueron ligeramente inferiores en la mayoría de las métricas, lo que sugiere que agregar información temporal puede aportar valor a la clasificación. Para confirmar esta hipótesis, se realizará la misma comparación con el modelo de **Bosque Aleatorio**.\n",
    "\n",
    "Para mejorar la calidad del modelo, se aplicará **sobremuestreo** a la clase minoritaria con el fin de equilibrar las clases y evaluar si esto mejora su desempeño."
   ]
  },
  {
   "cell_type": "code",
   "execution_count": 97,
   "metadata": {},
   "outputs": [],
   "source": [
    "from sklearn.utils import shuffle\n",
    "# Funcion de Submuestreo\n",
    "def submuestreo(features, target, fraction):\n",
    "    # Separa las caracteristicas y objetivos segun el objetivo (0 o 1)\n",
    "    features_ceros = features[target == 0]\n",
    "    features_unos = features[target == 1]\n",
    "    target_ceros = target[target == 0]\n",
    "    target_unos = target[target == 1]\n",
    "\n",
    "    # Concatenamos todas las observaciones de la clase 1 con una muestra aleatoria de las observaciones de la clase 0, \n",
    "    # tomando una fracción (definida por la variable 'fraction') de los datos de la clase 0.\n",
    "    features_submuestras = pd.concat([features_ceros.sample(frac=fraction, random_state=1234)]+[features_unos])\n",
    "    \n",
    "    # Realizamos la misma operacion anterior con los objetivos\n",
    "    target_submuestras = pd.concat([target_ceros.sample(frac=fraction, random_state=1234)]+[target_unos])\n",
    "    \n",
    "    # mezclar las muestras para volver a tener aletoriedad en el conjunto\n",
    "    features_submuestras, target_submuestras = shuffle(features_submuestras, target_submuestras, random_state=1234)\n",
    "    \n",
    "    return features_submuestras, target_submuestras\n",
    "# Sobremuestreo\n",
    "def upsample(features, target, repeat):\n",
    "    # Separa las caracteristicas y objetivos segun el objetivo (0 o 1)\n",
    "    features_zeros = features[target == 0]\n",
    "    features_ones = features[target == 1]\n",
    "    target_zeros = target[target == 0]\n",
    "    target_ones = target[target == 1]\n",
    "\n",
    "    # Concatenamos todas las observaciones de la clase 1 multiplicadas las veces que indique repeat\n",
    "    # con una muestra aleatoria de las observaciones de la clase 0, \n",
    "    features_upsampled = pd.concat([features_zeros] + [features_ones] * repeat)\n",
    "    target_upsampled = pd.concat([target_zeros] + [target_ones] * repeat)\n",
    "\n",
    "    # mezclar las muestras para volver a tener aletoriedad en el conjunto\n",
    "    features_upsampled, target_upsampled = shuffle(\n",
    "        features_upsampled, target_upsampled, random_state=12345\n",
    "    )\n",
    "\n",
    "    return features_upsampled, target_upsampled\n",
    "\n",
    "X_upsampled, y_upsampled = upsample(\n",
    "    X_train, y_train, 2)\n",
    "\n",
    "X_subsampled, y_subsampled = submuestreo(\n",
    "    X_train, y_train, 0.4)\n"
   ]
  },
  {
   "cell_type": "markdown",
   "metadata": {},
   "source": [
    "##### Random Forest (Bosque Aleatorio) "
   ]
  },
  {
   "cell_type": "code",
   "execution_count": 98,
   "metadata": {},
   "outputs": [
    {
     "name": "stdout",
     "output_type": "stream",
     "text": [
      "                    F1_Score   AUC_ROC    Recall Precision  Accuracy\n",
      "LogisticRegression  0.634921  0.863663  0.854701  0.505051  0.755145\n",
      "RandomForest        0.694377  0.902469  0.809117  0.608137  0.822569\n",
      "XGBoost                  NaN       NaN       NaN       NaN       NaN\n"
     ]
    }
   ],
   "source": [
    "from sklearn.ensemble import RandomForestClassifier\n",
    "\n",
    "rf_model = RandomForestClassifier(max_depth=9,random_state= 1234, n_estimators=22, class_weight='balanced')\n",
    "rf_model.fit(X_train, y_train)\n",
    "rf_probabilities = rf_model.predict_proba(X_valid)[:,1]\n",
    "rf_predictions = rf_model.predict(X_valid)\n",
    "    \n",
    "# Almacenar resultados en la tabla\n",
    "comparation_model_df.loc['RandomForest'] = [\n",
    "    f1_score(y_valid, rf_predictions),\n",
    "    roc_auc_score(y_valid, rf_probabilities),\n",
    "    recall_score(y_valid, rf_predictions),\n",
    "    precision_score(y_valid, rf_predictions),\n",
    "    accuracy_score(y_valid, rf_predictions)\n",
    "]\n",
    "\n",
    "# Mostrar resultados\n",
    "print(comparation_model_df)"
   ]
  },
  {
   "cell_type": "markdown",
   "metadata": {},
   "source": [
    "#### Conclusión del Modelo de Bosque Aleatorio\n",
    "Tras evaluar el modelo de **Bosque Aleatorio**, se probaron distintas combinaciones de eliminación de variables. Se determinó que la mejor opción es eliminar `partner` y `paperless_billing`, ya que su eliminación mejoró el desempeño del modelo. En contraste, eliminar otras columnas como `gender`, `senior_citizen`, `dependents` y `payment_method` redujo su rendimiento.\n",
    "\n",
    "Inicialmente, el modelo fue entrenado sin las columnas derivadas de `begin_date`, conservando únicamente `duration_months`. En esta versión, se obtuvo un ***F1-score*** de $0.662$, con un ***recall*** de $0.783$ y una ***precisión*** de $0.565$.\n",
    "\n",
    "Sin embargo, al incluir las nuevas características begin_year y begin_month, el desempeño del modelo mejoró significativamente:\n",
    "\n",
    "- F1-score aumentó de 0.662 a 0.694.\n",
    "- Recall aumentó de 0.783 a 0.809.\n",
    "- Precisión pasó de 0.565 a 0.608.\n",
    "- AUC-ROC aumentó de 0.866 a 0.903.\n",
    "- Exactirud pasó de 0.765 a 0.823.\n",
    "\n",
    "Estos resultados sugieren que la información temporal del contrato aporta valor al modelo, permitiéndole distinguir mejor entre clientes que cancelan y los que permanecen.\n",
    "\n",
    "Para asegurar la robustez del modelo, se evaluó con datos originales, **submuestreados** y **sobremuestreados**. El mejor desempeño se obtuvo con los datos originales. Se probaron distintas combinaciones de class balancing, pero en la mayoría de los casos, aplicar `class_weight='balanced'` junto con **submuestreo** o **sobremuestreo** redujo las métricas del modelo.\n",
    "\n",
    "Dado el incremento en el rendimiento con las nuevas características, se concluye que incluir `begin_year` y `begin_month` es beneficioso para la predicción de cancelaciones."
   ]
  },
  {
   "cell_type": "markdown",
   "metadata": {},
   "source": [
    "#### XGBoost"
   ]
  },
  {
   "cell_type": "code",
   "execution_count": 99,
   "metadata": {},
   "outputs": [
    {
     "name": "stdout",
     "output_type": "stream",
     "text": [
      "                    F1_Score   AUC_ROC    Recall Precision  Accuracy\n",
      "LogisticRegression  0.634921  0.863663  0.854701  0.505051  0.755145\n",
      "RandomForest        0.694377  0.902469  0.809117  0.608137  0.822569\n",
      "XGBoost             0.873635  0.972166  0.797721  0.965517  0.942512\n"
     ]
    }
   ],
   "source": [
    "import xgboost as xgb\n",
    "\n",
    "# Train a model using the scikit-learn API\n",
    "xgb_model = xgb.XGBClassifier(n_estimators=22, eta=0.33, max_depth=6, enable_categorical=True)\n",
    "\n",
    "# Entrenar el modelo\n",
    "xgb_model.fit(X_train, y_train)\n",
    "\n",
    "# Hacer predicciones\n",
    "xgb_probabilities = xgb_model.predict_proba(X_valid)[:,1]\n",
    "xgb_predictions = xgb_model.predict(X_valid)\n",
    "   \n",
    "# Almacenar resultados en la tabla\n",
    "comparation_model_df.loc['XGBoost'] = [\n",
    "    f1_score(y_valid, xgb_predictions),\n",
    "    roc_auc_score(y_valid, xgb_probabilities),\n",
    "    recall_score(y_valid, xgb_predictions),\n",
    "    precision_score(y_valid, xgb_predictions),\n",
    "    accuracy_score(y_valid, xgb_predictions)\n",
    "]\n",
    "\n",
    "# Mostrar resultados\n",
    "print(comparation_model_df)\n"
   ]
  },
  {
   "cell_type": "markdown",
   "metadata": {},
   "source": [
    "El modelo **XGBoost** mostró un desempeño superior en comparación con los demás modelos en la mayoría de las métricas, destacándose con un ***F1-score*** de $0.874$, un ***AUC-ROC*** de $0.971$ y una ***Exactitud*** de $0.942$. Estos resultados indican que el modelo distingue eficazmente entre clases positivas y negativas, además de mantener un buen equilibrio entre ***recall*** y ***precisión***, lo que significa que es capaz de detectar más clientes que cancelarán su contrato sin incrementar significativamente los falsos positivos.\n",
    "\n",
    "Debido a su sólido rendimiento, **XGBoost** ha sido seleccionado para predecir los clientes con mayor probabilidad de cancelar su contrato. No obstante, antes de su implementación final, se llevará a cabo una última evaluación utilizando el conjunto de prueba para validar su calidad."
   ]
  },
  {
   "cell_type": "code",
   "execution_count": 100,
   "metadata": {},
   "outputs": [
    {
     "name": "stdout",
     "output_type": "stream",
     "text": [
      "El F1 :0.8333\n",
      "AUC_ROC:0.9603\n",
      "Recall:0.7353\n",
      "Precisión:0.9615\n",
      "Exactitud:0.9219\n"
     ]
    }
   ],
   "source": [
    "predictions_test = xgb_model.predict(X_test)\n",
    "test_score = f1_score(y_test, predictions_test)\n",
    "probabilities_test = xgb_model.predict_proba(X_test)\n",
    "probab_one_test = probabilities_test[:, 1]\n",
    "test_auc_roc = roc_auc_score(y_test, probab_one_test)\n",
    "\n",
    "print(\"El F1 :{:.4f}\".format(test_score))\n",
    "print('AUC_ROC:{:.4f}'.format(test_auc_roc))\n",
    "print(f'Recall:{ recall_score(y_test, predictions_test):.4f}')\n",
    "print(\"Precisión:{:.4f}\".format(precision_score(y_test, predictions_test)))\n",
    "print(f\"Exactitud:{accuracy_score(y_test, predictions_test):.4f}\")"
   ]
  },
  {
   "cell_type": "markdown",
   "metadata": {},
   "source": [
    "### Conclusion.\n",
    "Muchos factores influyen en la decisión de un cliente al cancelar su contrato. Uno de los principales es la estacionalidad: el análisis muestra que todas las cancelaciones ocurrieron entre octubre y enero. Por ello, una estrategia efectiva podría ser ofrecer descuentos o bajar los precios en esos meses para reducir la tasa de cancelación.\n",
    "\n",
    "En cuanto a los servicios contratados, la telefonía fija tiene la mayor tasa de retención de clientes, mientras que las conexiones a internet por fibra óptica presentan una mayor tasa de cancelación en comparación con DSL. Esto sugiere que sería útil investigar problemas técnicos o de servicio en las conexiones de fibra óptica para mejorar la experiencia del usuario.\n",
    "\n",
    "No se encontró evidencia de que los servicios adicionales de internet estén generando problemas o contribuyendo directamente a las cancelaciones. Sin embargo, los servicios de streaming, tanto de TV como de películas, tienen la mayor tasa de cancelación entre los servicios adicionales. Esto indica que podrían mejorarse o implementarse estrategias para hacerlos más atractivos y aumentar su retención.\n",
    "\n",
    "Otro hallazgo importante es que los clientes con contratos a largo plazo muestran una mayor retención. Por ello, podría ser beneficioso establecer contratos con una duración mínima de 3 a 4 meses, permitiendo que los usuarios se adapten al servicio y reporten problemas antes de considerar la cancelación inmediata tras un mes de uso.\n",
    "\n",
    "En cuanto a la información personal de los clientes, uno de los factores con mayor impacto en la retención es el hecho de tener dependientes. Aunque la cantidad de clientes en esta categoría es menor, su tasa de cancelación también es más baja, tanto en términos absolutos como proporcionales. Esto sugiere que sería beneficioso diseñar ofertas o promociones dirigidas a este segmento, ya que tienden a permanecer más tiempo como clientes.\n",
    "\n",
    "En lo que respecta al desempeño de los modelos de Machine Learning, la inclusión de las columnas begin_month y begin_year mejoró significativamente los resultados. Aunque el modelo de Regresión Logística mostró un rendimiento apenas superior a una predicción aleatoria, los modelos de Bosque Aleatorio y XGBoost obtuvieron un desempeño notablemente mejor. XGBoost se destacó como el más eficaz, manteniendo la calidad de sus métricas incluso en el conjunto de prueba.\n",
    "\n",
    "Por último, los datos del conjunto no estaban equilibrados, y aunque se probaron métodos para balancearlos, las métricas del modelo no mejoraron significativamente, reduciéndose apenas unas milésimas. Además, se descartaron columnas consideradas innecesarias para evitar ruido en los datos y mejorar la calidad del análisis."
   ]
  },
  {
   "cell_type": "markdown",
   "metadata": {},
   "source": [
    "### Plan de trabajo\n",
    "\n",
    "- [x] ¿Los clientes con contratos mensuales cancelan más que los anuales?\n",
    "- [x] ¿El tipo de conexión a internet (DSL vs. fibra óptica) afecta la retención?\n",
    "- [x] ¿Cuál es la tasa de cancelación mensual y qué factores internos podrían estar asociados a esa variación?\n",
    "- [x] ¿Existe algun problema con alguno servicios que esté causando una mayor tasa de cancelacion?\n",
    "- [x] ¿La situación personal del cliente (genero/pareja/dependientes/adulto mayor) influye en la cancelación?\n",
    "\n",
    "**Cargar y analizar los datos:** \n",
    "- [x] Cargar los datasets y procesarlos para verificar que no haya errores en los datos como valores duplicados o ausentes.\n",
    "- [x] Combinar los datasets y  análizarlos para encontrar la informacíon más relebante para el entrenamiento de los modelos.\n",
    "- [x] Graficar informácion que pueda resultar relevante para la prediccion de clientes que abandonan el servicio.\n",
    "\n",
    "**Ingenieria de caracteristicas**\n",
    "- [x] Eliminar las columnas que resulten irrelebantes para el análisis.\n",
    "- [x] Codificar los datos para el entrenamiento de los modelos.\n",
    "\n",
    "**Entrenamiento de modelos ML.** \n",
    "- [x] Dividir los datos resultantes del analisis para el entrenamiento, validacion y prueba de los modelos.\n",
    "- [x] Realizar prueba de cordura.\n",
    "- [x] Entrenar 3 modelos diferentes y elegir el más eficaz.\n",
    "- [x] Probar el modelo seleccionado con el conjunto de prueba.\n"
   ]
  }
 ],
 "metadata": {
  "kernelspec": {
   "display_name": "base",
   "language": "python",
   "name": "python3"
  },
  "language_info": {
   "codemirror_mode": {
    "name": "ipython",
    "version": 3
   },
   "file_extension": ".py",
   "mimetype": "text/x-python",
   "name": "python",
   "nbconvert_exporter": "python",
   "pygments_lexer": "ipython3",
   "version": "3.11.7"
  }
 },
 "nbformat": 4,
 "nbformat_minor": 2
}
